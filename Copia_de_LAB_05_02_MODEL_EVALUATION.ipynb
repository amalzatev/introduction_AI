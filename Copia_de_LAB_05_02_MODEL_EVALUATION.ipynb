{
  "nbformat": 4,
  "nbformat_minor": 0,
  "metadata": {
    "kernelspec": {
      "display_name": "Python 3",
      "language": "python",
      "name": "python3"
    },
    "language_info": {
      "codemirror_mode": {
        "name": "ipython",
        "version": 3
      },
      "file_extension": ".py",
      "mimetype": "text/x-python",
      "name": "python",
      "nbconvert_exporter": "python",
      "pygments_lexer": "ipython3",
      "version": "3.7.3"
    },
    "colab": {
      "name": "Copia de LAB 05.02 - MODEL EVALUATION.ipynb",
      "provenance": [],
      "include_colab_link": true
    },
    "widgets": {
      "application/vnd.jupyter.widget-state+json": {
        "210dc5e546ae455f841bacb791547789": {
          "model_module": "@jupyter-widgets/controls",
          "model_name": "HBoxModel",
          "model_module_version": "1.5.0",
          "state": {
            "_view_name": "HBoxView",
            "_dom_classes": [],
            "_model_name": "HBoxModel",
            "_view_module": "@jupyter-widgets/controls",
            "_model_module_version": "1.5.0",
            "_view_count": null,
            "_view_module_version": "1.5.0",
            "box_style": "",
            "layout": "IPY_MODEL_1ae16a23ed2b449d8b34fb8a6d66b542",
            "_model_module": "@jupyter-widgets/controls",
            "children": [
              "IPY_MODEL_c7d63e2d609a405eb739104edaf4a73c",
              "IPY_MODEL_758325e6e73c49e8a4a45f139d1d35a9",
              "IPY_MODEL_f11527f1859746c59fd77485ad6a633b",
              "IPY_MODEL_52eca6dace7b4b8bb83aaab6ecd776d5"
            ]
          }
        },
        "1ae16a23ed2b449d8b34fb8a6d66b542": {
          "model_module": "@jupyter-widgets/base",
          "model_name": "LayoutModel",
          "model_module_version": "1.2.0",
          "state": {
            "_view_name": "LayoutView",
            "grid_template_rows": null,
            "right": null,
            "justify_content": null,
            "_view_module": "@jupyter-widgets/base",
            "overflow": null,
            "_model_module_version": "1.2.0",
            "_view_count": null,
            "flex_flow": null,
            "width": null,
            "min_width": null,
            "border": null,
            "align_items": null,
            "bottom": null,
            "_model_module": "@jupyter-widgets/base",
            "top": null,
            "grid_column": null,
            "overflow_y": null,
            "overflow_x": null,
            "grid_auto_flow": null,
            "grid_area": null,
            "grid_template_columns": null,
            "flex": null,
            "_model_name": "LayoutModel",
            "justify_items": null,
            "grid_row": null,
            "max_height": null,
            "align_content": null,
            "visibility": null,
            "align_self": null,
            "height": null,
            "min_height": null,
            "padding": null,
            "grid_auto_rows": null,
            "grid_gap": null,
            "max_width": null,
            "order": null,
            "_view_module_version": "1.2.0",
            "grid_template_areas": null,
            "object_position": null,
            "object_fit": null,
            "grid_auto_columns": null,
            "margin": null,
            "display": null,
            "left": null
          }
        },
        "c7d63e2d609a405eb739104edaf4a73c": {
          "model_module": "@jupyter-widgets/controls",
          "model_name": "VBoxModel",
          "model_module_version": "1.5.0",
          "state": {
            "_view_name": "VBoxView",
            "_dom_classes": [],
            "_model_name": "VBoxModel",
            "_view_module": "@jupyter-widgets/controls",
            "_model_module_version": "1.5.0",
            "_view_count": null,
            "_view_module_version": "1.5.0",
            "box_style": "",
            "layout": "IPY_MODEL_e003c27211834b4689ef9d13d253a0a8",
            "_model_module": "@jupyter-widgets/controls",
            "children": [
              "IPY_MODEL_3350e55d8ca940fc90444fb239eb3372",
              "IPY_MODEL_0629904a666b49dd87b1acbc24b4888e"
            ]
          }
        },
        "758325e6e73c49e8a4a45f139d1d35a9": {
          "model_module": "@jupyter-widgets/controls",
          "model_name": "ButtonModel",
          "model_module_version": "1.5.0",
          "state": {
            "_view_name": "ButtonView",
            "style": "IPY_MODEL_a73f0fbc798948b99af69ff3f6e1712b",
            "_dom_classes": [
              "login_button"
            ],
            "description": "Login with email",
            "_model_name": "ButtonModel",
            "button_style": "",
            "_view_module": "@jupyter-widgets/controls",
            "_model_module_version": "1.5.0",
            "tooltip": "",
            "_view_count": null,
            "disabled": false,
            "_view_module_version": "1.5.0",
            "layout": "IPY_MODEL_f188c82231a647618268fa1e30950070",
            "_model_module": "@jupyter-widgets/controls",
            "icon": ""
          }
        },
        "f11527f1859746c59fd77485ad6a633b": {
          "model_module": "@jupyter-widgets/controls",
          "model_name": "HTMLModel",
          "model_module_version": "1.5.0",
          "state": {
            "_view_name": "HTMLView",
            "style": "IPY_MODEL_716262a7b22b472d97613e267c6cdc69",
            "_dom_classes": [],
            "description": "",
            "_model_name": "HTMLModel",
            "placeholder": "​",
            "_view_module": "@jupyter-widgets/controls",
            "_model_module_version": "1.5.0",
            "value": "<center><big>or</big></center>",
            "_view_count": null,
            "_view_module_version": "1.5.0",
            "description_tooltip": null,
            "_model_module": "@jupyter-widgets/controls",
            "layout": "IPY_MODEL_597b5cf2f9214861823149bc78c91594"
          }
        },
        "52eca6dace7b4b8bb83aaab6ecd776d5": {
          "model_module": "@jupyter-widgets/controls",
          "model_name": "ButtonModel",
          "model_module_version": "1.5.0",
          "state": {
            "_view_name": "ButtonView",
            "style": "IPY_MODEL_d84e5ac4156342df9d9b6f54e1c78c3f",
            "_dom_classes": [
              "google_button"
            ],
            "description": "Login with Google",
            "_model_name": "ButtonModel",
            "button_style": "",
            "_view_module": "@jupyter-widgets/controls",
            "_model_module_version": "1.5.0",
            "tooltip": "",
            "_view_count": null,
            "disabled": false,
            "_view_module_version": "1.5.0",
            "layout": "IPY_MODEL_90492620b62a46e092e883860c73e493",
            "_model_module": "@jupyter-widgets/controls",
            "icon": ""
          }
        },
        "e003c27211834b4689ef9d13d253a0a8": {
          "model_module": "@jupyter-widgets/base",
          "model_name": "LayoutModel",
          "model_module_version": "1.2.0",
          "state": {
            "_view_name": "LayoutView",
            "grid_template_rows": null,
            "right": null,
            "justify_content": null,
            "_view_module": "@jupyter-widgets/base",
            "overflow": null,
            "_model_module_version": "1.2.0",
            "_view_count": null,
            "flex_flow": null,
            "width": null,
            "min_width": null,
            "border": null,
            "align_items": null,
            "bottom": null,
            "_model_module": "@jupyter-widgets/base",
            "top": null,
            "grid_column": null,
            "overflow_y": null,
            "overflow_x": null,
            "grid_auto_flow": null,
            "grid_area": null,
            "grid_template_columns": null,
            "flex": null,
            "_model_name": "LayoutModel",
            "justify_items": null,
            "grid_row": null,
            "max_height": null,
            "align_content": null,
            "visibility": null,
            "align_self": null,
            "height": null,
            "min_height": null,
            "padding": null,
            "grid_auto_rows": null,
            "grid_gap": null,
            "max_width": null,
            "order": null,
            "_view_module_version": "1.2.0",
            "grid_template_areas": null,
            "object_position": null,
            "object_fit": null,
            "grid_auto_columns": null,
            "margin": null,
            "display": null,
            "left": null
          }
        },
        "3350e55d8ca940fc90444fb239eb3372": {
          "model_module": "@jupyter-widgets/controls",
          "model_name": "TextModel",
          "model_module_version": "1.5.0",
          "state": {
            "_view_name": "TextView",
            "style": "IPY_MODEL_341184fa0df244c0aab69e9a4439fa94",
            "_dom_classes": [],
            "description": "email",
            "_model_name": "TextModel",
            "placeholder": "​",
            "_view_module": "@jupyter-widgets/controls",
            "_model_module_version": "1.5.0",
            "value": "amalzatev@unal.edu.co",
            "_view_count": null,
            "disabled": false,
            "_view_module_version": "1.5.0",
            "continuous_update": true,
            "description_tooltip": null,
            "_model_module": "@jupyter-widgets/controls",
            "layout": "IPY_MODEL_5ed6c07983794938a261119fd01bff77"
          }
        },
        "0629904a666b49dd87b1acbc24b4888e": {
          "model_module": "@jupyter-widgets/controls",
          "model_name": "PasswordModel",
          "model_module_version": "1.5.0",
          "state": {
            "_view_name": "PasswordView",
            "style": "IPY_MODEL_00fedce5edbf442b905707360c9c1968",
            "_dom_classes": [],
            "description": "password",
            "_model_name": "PasswordModel",
            "placeholder": "​",
            "_view_module": "@jupyter-widgets/controls",
            "_model_module_version": "1.5.0",
            "value": "Madreteamo0617",
            "_view_count": null,
            "disabled": false,
            "_view_module_version": "1.5.0",
            "continuous_update": true,
            "description_tooltip": null,
            "_model_module": "@jupyter-widgets/controls",
            "layout": "IPY_MODEL_06ebcb89899741ceb6a0737e9fca7eb3"
          }
        },
        "a73f0fbc798948b99af69ff3f6e1712b": {
          "model_module": "@jupyter-widgets/controls",
          "model_name": "ButtonStyleModel",
          "model_module_version": "1.5.0",
          "state": {
            "_view_name": "StyleView",
            "_model_name": "ButtonStyleModel",
            "_view_module": "@jupyter-widgets/base",
            "_model_module_version": "1.5.0",
            "_view_count": null,
            "button_color": null,
            "font_weight": "",
            "_view_module_version": "1.2.0",
            "_model_module": "@jupyter-widgets/controls"
          }
        },
        "f188c82231a647618268fa1e30950070": {
          "model_module": "@jupyter-widgets/base",
          "model_name": "LayoutModel",
          "model_module_version": "1.2.0",
          "state": {
            "_view_name": "LayoutView",
            "grid_template_rows": null,
            "right": null,
            "justify_content": null,
            "_view_module": "@jupyter-widgets/base",
            "overflow": null,
            "_model_module_version": "1.2.0",
            "_view_count": null,
            "flex_flow": null,
            "width": "150px",
            "min_width": null,
            "border": null,
            "align_items": null,
            "bottom": null,
            "_model_module": "@jupyter-widgets/base",
            "top": null,
            "grid_column": null,
            "overflow_y": null,
            "overflow_x": null,
            "grid_auto_flow": null,
            "grid_area": null,
            "grid_template_columns": null,
            "flex": null,
            "_model_name": "LayoutModel",
            "justify_items": null,
            "grid_row": null,
            "max_height": null,
            "align_content": null,
            "visibility": null,
            "align_self": null,
            "height": "53px",
            "min_height": null,
            "padding": null,
            "grid_auto_rows": null,
            "grid_gap": null,
            "max_width": null,
            "order": null,
            "_view_module_version": "1.2.0",
            "grid_template_areas": null,
            "object_position": null,
            "object_fit": null,
            "grid_auto_columns": null,
            "margin": null,
            "display": null,
            "left": null
          }
        },
        "716262a7b22b472d97613e267c6cdc69": {
          "model_module": "@jupyter-widgets/controls",
          "model_name": "DescriptionStyleModel",
          "model_module_version": "1.5.0",
          "state": {
            "_view_name": "StyleView",
            "_model_name": "DescriptionStyleModel",
            "description_width": "",
            "_view_module": "@jupyter-widgets/base",
            "_model_module_version": "1.5.0",
            "_view_count": null,
            "_view_module_version": "1.2.0",
            "_model_module": "@jupyter-widgets/controls"
          }
        },
        "597b5cf2f9214861823149bc78c91594": {
          "model_module": "@jupyter-widgets/base",
          "model_name": "LayoutModel",
          "model_module_version": "1.2.0",
          "state": {
            "_view_name": "LayoutView",
            "grid_template_rows": null,
            "right": null,
            "justify_content": null,
            "_view_module": "@jupyter-widgets/base",
            "overflow": null,
            "_model_module_version": "1.2.0",
            "_view_count": null,
            "flex_flow": null,
            "width": "100px",
            "min_width": null,
            "border": null,
            "align_items": null,
            "bottom": null,
            "_model_module": "@jupyter-widgets/base",
            "top": null,
            "grid_column": null,
            "overflow_y": null,
            "overflow_x": null,
            "grid_auto_flow": null,
            "grid_area": null,
            "grid_template_columns": null,
            "flex": null,
            "_model_name": "LayoutModel",
            "justify_items": null,
            "grid_row": null,
            "max_height": null,
            "align_content": null,
            "visibility": null,
            "align_self": null,
            "height": null,
            "min_height": null,
            "padding": null,
            "grid_auto_rows": null,
            "grid_gap": null,
            "max_width": null,
            "order": null,
            "_view_module_version": "1.2.0",
            "grid_template_areas": null,
            "object_position": null,
            "object_fit": null,
            "grid_auto_columns": null,
            "margin": null,
            "display": null,
            "left": null
          }
        },
        "d84e5ac4156342df9d9b6f54e1c78c3f": {
          "model_module": "@jupyter-widgets/controls",
          "model_name": "ButtonStyleModel",
          "model_module_version": "1.5.0",
          "state": {
            "_view_name": "StyleView",
            "_model_name": "ButtonStyleModel",
            "_view_module": "@jupyter-widgets/base",
            "_model_module_version": "1.5.0",
            "_view_count": null,
            "button_color": null,
            "font_weight": "",
            "_view_module_version": "1.2.0",
            "_model_module": "@jupyter-widgets/controls"
          }
        },
        "90492620b62a46e092e883860c73e493": {
          "model_module": "@jupyter-widgets/base",
          "model_name": "LayoutModel",
          "model_module_version": "1.2.0",
          "state": {
            "_view_name": "LayoutView",
            "grid_template_rows": null,
            "right": null,
            "justify_content": null,
            "_view_module": "@jupyter-widgets/base",
            "overflow": null,
            "_model_module_version": "1.2.0",
            "_view_count": null,
            "flex_flow": null,
            "width": "200px",
            "min_width": null,
            "border": null,
            "align_items": null,
            "bottom": null,
            "_model_module": "@jupyter-widgets/base",
            "top": null,
            "grid_column": null,
            "overflow_y": null,
            "overflow_x": null,
            "grid_auto_flow": null,
            "grid_area": null,
            "grid_template_columns": null,
            "flex": null,
            "_model_name": "LayoutModel",
            "justify_items": null,
            "grid_row": null,
            "max_height": null,
            "align_content": null,
            "visibility": null,
            "align_self": null,
            "height": "53px",
            "min_height": null,
            "padding": null,
            "grid_auto_rows": null,
            "grid_gap": null,
            "max_width": null,
            "order": null,
            "_view_module_version": "1.2.0",
            "grid_template_areas": null,
            "object_position": null,
            "object_fit": null,
            "grid_auto_columns": null,
            "margin": null,
            "display": null,
            "left": null
          }
        },
        "341184fa0df244c0aab69e9a4439fa94": {
          "model_module": "@jupyter-widgets/controls",
          "model_name": "DescriptionStyleModel",
          "model_module_version": "1.5.0",
          "state": {
            "_view_name": "StyleView",
            "_model_name": "DescriptionStyleModel",
            "description_width": "",
            "_view_module": "@jupyter-widgets/base",
            "_model_module_version": "1.5.0",
            "_view_count": null,
            "_view_module_version": "1.2.0",
            "_model_module": "@jupyter-widgets/controls"
          }
        },
        "5ed6c07983794938a261119fd01bff77": {
          "model_module": "@jupyter-widgets/base",
          "model_name": "LayoutModel",
          "model_module_version": "1.2.0",
          "state": {
            "_view_name": "LayoutView",
            "grid_template_rows": null,
            "right": null,
            "justify_content": null,
            "_view_module": "@jupyter-widgets/base",
            "overflow": null,
            "_model_module_version": "1.2.0",
            "_view_count": null,
            "flex_flow": null,
            "width": "300px",
            "min_width": null,
            "border": null,
            "align_items": null,
            "bottom": null,
            "_model_module": "@jupyter-widgets/base",
            "top": null,
            "grid_column": null,
            "overflow_y": null,
            "overflow_x": null,
            "grid_auto_flow": null,
            "grid_area": null,
            "grid_template_columns": null,
            "flex": null,
            "_model_name": "LayoutModel",
            "justify_items": null,
            "grid_row": null,
            "max_height": null,
            "align_content": null,
            "visibility": null,
            "align_self": null,
            "height": "25px",
            "min_height": null,
            "padding": null,
            "grid_auto_rows": null,
            "grid_gap": null,
            "max_width": null,
            "order": null,
            "_view_module_version": "1.2.0",
            "grid_template_areas": null,
            "object_position": null,
            "object_fit": null,
            "grid_auto_columns": null,
            "margin": null,
            "display": null,
            "left": null
          }
        },
        "00fedce5edbf442b905707360c9c1968": {
          "model_module": "@jupyter-widgets/controls",
          "model_name": "DescriptionStyleModel",
          "model_module_version": "1.5.0",
          "state": {
            "_view_name": "StyleView",
            "_model_name": "DescriptionStyleModel",
            "description_width": "",
            "_view_module": "@jupyter-widgets/base",
            "_model_module_version": "1.5.0",
            "_view_count": null,
            "_view_module_version": "1.2.0",
            "_model_module": "@jupyter-widgets/controls"
          }
        },
        "06ebcb89899741ceb6a0737e9fca7eb3": {
          "model_module": "@jupyter-widgets/base",
          "model_name": "LayoutModel",
          "model_module_version": "1.2.0",
          "state": {
            "_view_name": "LayoutView",
            "grid_template_rows": null,
            "right": null,
            "justify_content": null,
            "_view_module": "@jupyter-widgets/base",
            "overflow": null,
            "_model_module_version": "1.2.0",
            "_view_count": null,
            "flex_flow": null,
            "width": "300px",
            "min_width": null,
            "border": null,
            "align_items": null,
            "bottom": null,
            "_model_module": "@jupyter-widgets/base",
            "top": null,
            "grid_column": null,
            "overflow_y": null,
            "overflow_x": null,
            "grid_auto_flow": null,
            "grid_area": null,
            "grid_template_columns": null,
            "flex": null,
            "_model_name": "LayoutModel",
            "justify_items": null,
            "grid_row": null,
            "max_height": null,
            "align_content": null,
            "visibility": null,
            "align_self": null,
            "height": "24px",
            "min_height": null,
            "padding": null,
            "grid_auto_rows": null,
            "grid_gap": null,
            "max_width": null,
            "order": null,
            "_view_module_version": "1.2.0",
            "grid_template_areas": null,
            "object_position": null,
            "object_fit": null,
            "grid_auto_columns": null,
            "margin": null,
            "display": null,
            "left": null
          }
        }
      }
    }
  },
  "cells": [
    {
      "cell_type": "markdown",
      "metadata": {
        "id": "view-in-github",
        "colab_type": "text"
      },
      "source": [
        "<a href=\"https://colab.research.google.com/github/amalzatev/introduction_AI/blob/main/Copia_de_LAB_05_02_MODEL_EVALUATION.ipynb\" target=\"_parent\"><img src=\"https://colab.research.google.com/assets/colab-badge.svg\" alt=\"Open In Colab\"/></a>"
      ]
    },
    {
      "cell_type": "markdown",
      "metadata": {
        "id": "hnU5JmdDpn-D"
      },
      "source": [
        "# LAB 05.02 - Model evaluation"
      ]
    },
    {
      "cell_type": "code",
      "metadata": {
        "id": "3ir759-Xpn-J",
        "colab": {
          "base_uri": "https://localhost:8080/",
          "height": 74
        },
        "outputId": "70086987-7609-49c9-b789-931f9b787301"
      },
      "source": [
        "!wget --no-cache -O init.py -q https://raw.githubusercontent.com/rramosp/ai4eng.v1/main/content/init.py\n",
        "import init; init.init(force_download=False); init.get_weblink()\n"
      ],
      "execution_count": null,
      "outputs": [
        {
          "output_type": "display_data",
          "data": {
            "text/html": [
              "\n",
              "<meta name=\"google-signin-client_id\"\n",
              "      content=\"461673936472-kdjosv61up3ac1ajeuq6qqu72upilmls.apps.googleusercontent.com\"/>\n",
              "<script src=\"https://apis.google.com/js/client:platform.js?onload=google_button_start\"></script>\n",
              "    "
            ],
            "text/plain": [
              "<IPython.core.display.HTML object>"
            ]
          },
          "metadata": {}
        },
        {
          "output_type": "stream",
          "name": "stdout",
          "text": [
            "replicating local resources\n"
          ]
        },
        {
          "output_type": "execute_result",
          "data": {
            "text/html": [
              "<h3>See <a href='https://m5knaekxo6.execute-api.us-west-2.amazonaws.com/dev-v0001/rlxmooc/web/login' target='_blank'>my courses and progress</a></h2>"
            ],
            "text/plain": [
              "<IPython.core.display.HTML object>"
            ]
          },
          "metadata": {},
          "execution_count": 2
        }
      ]
    },
    {
      "cell_type": "code",
      "metadata": {
        "id": "bGEAldV8pn-L",
        "colab": {
          "base_uri": "https://localhost:8080/",
          "height": 74,
          "referenced_widgets": [
            "210dc5e546ae455f841bacb791547789",
            "1ae16a23ed2b449d8b34fb8a6d66b542",
            "c7d63e2d609a405eb739104edaf4a73c",
            "758325e6e73c49e8a4a45f139d1d35a9",
            "f11527f1859746c59fd77485ad6a633b",
            "52eca6dace7b4b8bb83aaab6ecd776d5",
            "e003c27211834b4689ef9d13d253a0a8",
            "3350e55d8ca940fc90444fb239eb3372",
            "0629904a666b49dd87b1acbc24b4888e",
            "a73f0fbc798948b99af69ff3f6e1712b",
            "f188c82231a647618268fa1e30950070",
            "716262a7b22b472d97613e267c6cdc69",
            "597b5cf2f9214861823149bc78c91594",
            "d84e5ac4156342df9d9b6f54e1c78c3f",
            "90492620b62a46e092e883860c73e493",
            "341184fa0df244c0aab69e9a4439fa94",
            "5ed6c07983794938a261119fd01bff77",
            "00fedce5edbf442b905707360c9c1968",
            "06ebcb89899741ceb6a0737e9fca7eb3"
          ]
        },
        "outputId": "117ddc7b-bb45-4763-84ef-e16750236f73"
      },
      "source": [
        "from local.lib.rlxmoocapi import submit, session\n",
        "session.LoginSequence(endpoint=init.endpoint, course_id=init.course_id, lab_id=\"L05.02\", varname=\"student\");"
      ],
      "execution_count": null,
      "outputs": [
        {
          "output_type": "stream",
          "name": "stdout",
          "text": [
            "logging in as amalzatev@unal.edu.co ... please wait\n",
            "using course session ai4eng.v1::open\n",
            "success!! you are logged in\n"
          ]
        }
      ]
    },
    {
      "cell_type": "markdown",
      "metadata": {
        "id": "2BQk6T1-pn-M"
      },
      "source": [
        "## Task 1: Partition randomly `numpy` arrays\n",
        "\n",
        "observe we can select specific rows and/or columns on a numpy array"
      ]
    },
    {
      "cell_type": "code",
      "metadata": {
        "id": "9_yN7h1fpn-N",
        "colab": {
          "base_uri": "https://localhost:8080/"
        },
        "outputId": "e0e281ff-3f26-40eb-d82e-ab0363f6f158"
      },
      "source": [
        "import numpy as np\n",
        "\n",
        "x = np.random.randint(100, size=(20,5))\n",
        "x[:,0] = range(len(x))\n",
        "x[0,:] = range(x.shape[1])\n",
        "x"
      ],
      "execution_count": null,
      "outputs": [
        {
          "output_type": "execute_result",
          "data": {
            "text/plain": [
              "array([[ 0,  1,  2,  3,  4],\n",
              "       [ 1, 16, 18, 74, 99],\n",
              "       [ 2, 84, 44,  8,  7],\n",
              "       [ 3, 83, 86, 62, 77],\n",
              "       [ 4, 21, 70, 72, 73],\n",
              "       [ 5, 62, 24, 38, 69],\n",
              "       [ 6, 37, 76, 75, 88],\n",
              "       [ 7, 84, 35, 47, 67],\n",
              "       [ 8, 70, 44, 59, 56],\n",
              "       [ 9, 11, 25, 19, 74],\n",
              "       [10, 66, 22, 86, 64],\n",
              "       [11, 67, 36, 34, 47],\n",
              "       [12, 99, 41, 78, 52],\n",
              "       [13, 43,  0, 97, 75],\n",
              "       [14, 50, 81, 41, 68],\n",
              "       [15, 58, 46, 63, 20],\n",
              "       [16, 28, 58, 82, 35],\n",
              "       [17, 46, 90, 79, 61],\n",
              "       [18, 57,  4,  8, 96],\n",
              "       [19, 19, 43, 11, 76]])"
            ]
          },
          "metadata": {},
          "execution_count": 13
        }
      ]
    },
    {
      "cell_type": "code",
      "metadata": {
        "id": "0-eBmKDHpn-N",
        "colab": {
          "base_uri": "https://localhost:8080/"
        },
        "outputId": "1f0fc709-6f86-405c-d69c-15d1dc04f2ee"
      },
      "source": [
        "ridxs = np.r_[2,4,5]\n",
        "x[ridxs]\n"
      ],
      "execution_count": null,
      "outputs": [
        {
          "output_type": "execute_result",
          "data": {
            "text/plain": [
              "array([2, 4, 5])"
            ]
          },
          "metadata": {},
          "execution_count": 25
        }
      ]
    },
    {
      "cell_type": "code",
      "metadata": {
        "id": "LasGHC93pn-O",
        "colab": {
          "base_uri": "https://localhost:8080/"
        },
        "outputId": "8f599f1c-1b82-4ea9-8549-cd4a17005588"
      },
      "source": [
        "cidxs = np.r_[1,3]\n",
        "x[:,cidxs]\n"
      ],
      "execution_count": null,
      "outputs": [
        {
          "output_type": "execute_result",
          "data": {
            "text/plain": [
              "array([[ 1,  3],\n",
              "       [16, 74],\n",
              "       [84,  8],\n",
              "       [83, 62],\n",
              "       [21, 72],\n",
              "       [62, 38],\n",
              "       [37, 75],\n",
              "       [84, 47],\n",
              "       [70, 59],\n",
              "       [11, 19],\n",
              "       [66, 86],\n",
              "       [67, 34],\n",
              "       [99, 78],\n",
              "       [43, 97],\n",
              "       [50, 41],\n",
              "       [58, 63],\n",
              "       [28, 82],\n",
              "       [46, 79],\n",
              "       [57,  8],\n",
              "       [19, 11]])"
            ]
          },
          "metadata": {},
          "execution_count": 22
        }
      ]
    },
    {
      "cell_type": "code",
      "metadata": {
        "id": "aqzs93Iupn-O",
        "colab": {
          "base_uri": "https://localhost:8080/"
        },
        "outputId": "4c9fc00b-d9a3-4db7-eff8-1f118bc60868"
      },
      "source": [
        "x[ridxs][:, cidxs]"
      ],
      "execution_count": null,
      "outputs": [
        {
          "output_type": "execute_result",
          "data": {
            "text/plain": [
              "array([[84,  8],\n",
              "       [21, 72],\n",
              "       [62, 38]])"
            ]
          },
          "metadata": {},
          "execution_count": 24
        }
      ]
    },
    {
      "cell_type": "markdown",
      "metadata": {
        "id": "WV916FPZpn-P"
      },
      "source": [
        "and the dimensions of the array are accessible through `len` and `shape`"
      ]
    },
    {
      "cell_type": "code",
      "metadata": {
        "id": "_Awaz8uipn-R",
        "colab": {
          "base_uri": "https://localhost:8080/"
        },
        "outputId": "7bb98aea-1fc4-4874-bf43-44a8acb6b271"
      },
      "source": [
        "len(x), x.shape"
      ],
      "execution_count": null,
      "outputs": [
        {
          "output_type": "execute_result",
          "data": {
            "text/plain": [
              "(20, (20, 5))"
            ]
          },
          "metadata": {},
          "execution_count": 26
        }
      ]
    },
    {
      "cell_type": "markdown",
      "metadata": {
        "id": "pZdcOG13pn-R"
      },
      "source": [
        "observe also how we can partition it"
      ]
    },
    {
      "cell_type": "code",
      "metadata": {
        "id": "nQW9kNfUpn-S",
        "colab": {
          "base_uri": "https://localhost:8080/"
        },
        "outputId": "6c5f2b5e-ddf5-4760-c9c6-0ab96c55089c"
      },
      "source": [
        "x[:3]"
      ],
      "execution_count": null,
      "outputs": [
        {
          "output_type": "execute_result",
          "data": {
            "text/plain": [
              "array([[ 0,  1,  2,  3,  4],\n",
              "       [ 1, 16, 18, 74, 99],\n",
              "       [ 2, 84, 44,  8,  7]])"
            ]
          },
          "metadata": {},
          "execution_count": 27
        }
      ]
    },
    {
      "cell_type": "code",
      "metadata": {
        "id": "WmcEzNo5pn-S",
        "colab": {
          "base_uri": "https://localhost:8080/"
        },
        "outputId": "940a31a0-db57-482c-ea15-99b59d0913ca"
      },
      "source": [
        "x[3:]"
      ],
      "execution_count": null,
      "outputs": [
        {
          "output_type": "execute_result",
          "data": {
            "text/plain": [
              "array([[ 3, 83, 86, 62, 77],\n",
              "       [ 4, 21, 70, 72, 73],\n",
              "       [ 5, 62, 24, 38, 69],\n",
              "       [ 6, 37, 76, 75, 88],\n",
              "       [ 7, 84, 35, 47, 67],\n",
              "       [ 8, 70, 44, 59, 56],\n",
              "       [ 9, 11, 25, 19, 74],\n",
              "       [10, 66, 22, 86, 64],\n",
              "       [11, 67, 36, 34, 47],\n",
              "       [12, 99, 41, 78, 52],\n",
              "       [13, 43,  0, 97, 75],\n",
              "       [14, 50, 81, 41, 68],\n",
              "       [15, 58, 46, 63, 20],\n",
              "       [16, 28, 58, 82, 35],\n",
              "       [17, 46, 90, 79, 61],\n",
              "       [18, 57,  4,  8, 96],\n",
              "       [19, 19, 43, 11, 76]])"
            ]
          },
          "metadata": {},
          "execution_count": 28
        }
      ]
    },
    {
      "cell_type": "markdown",
      "metadata": {
        "id": "Bmcx73-zpn-T"
      },
      "source": [
        "we can do the same thing with vectors"
      ]
    },
    {
      "cell_type": "code",
      "metadata": {
        "id": "9VNkJYqDpn-T",
        "colab": {
          "base_uri": "https://localhost:8080/"
        },
        "outputId": "dd7679e5-6fda-4528-c3bb-60ed13544f0c"
      },
      "source": [
        "v = np.arange(100,120)\n",
        "v"
      ],
      "execution_count": null,
      "outputs": [
        {
          "output_type": "execute_result",
          "data": {
            "text/plain": [
              "array([100, 101, 102, 103, 104, 105, 106, 107, 108, 109, 110, 111, 112,\n",
              "       113, 114, 115, 116, 117, 118, 119])"
            ]
          },
          "metadata": {},
          "execution_count": 29
        }
      ]
    },
    {
      "cell_type": "code",
      "metadata": {
        "id": "q9PvA_8gpn-T",
        "colab": {
          "base_uri": "https://localhost:8080/"
        },
        "outputId": "8711cb11-33de-4b2f-e0c2-ddbf3d6b5cae"
      },
      "source": [
        "v[:5], v[5:]"
      ],
      "execution_count": null,
      "outputs": [
        {
          "output_type": "execute_result",
          "data": {
            "text/plain": [
              "(array([100, 101, 102, 103, 104]),\n",
              " array([105, 106, 107, 108, 109, 110, 111, 112, 113, 114, 115, 116, 117,\n",
              "        118, 119]))"
            ]
          },
          "metadata": {},
          "execution_count": 30
        }
      ]
    },
    {
      "cell_type": "markdown",
      "metadata": {
        "id": "Kjh8tWcIpn-U"
      },
      "source": [
        "finally, observe how we can create a random permutation of a specific vector"
      ]
    },
    {
      "cell_type": "code",
      "metadata": {
        "id": "fTv9oiz8pn-U",
        "colab": {
          "base_uri": "https://localhost:8080/"
        },
        "outputId": "bbe07578-a493-4a79-cd85-bcb22897c810"
      },
      "source": [
        "np.random.permutation(v)"
      ],
      "execution_count": null,
      "outputs": [
        {
          "output_type": "execute_result",
          "data": {
            "text/plain": [
              "array([119, 105, 118, 116, 107, 106, 115, 102, 117, 108, 104, 100, 103,\n",
              "       113, 112, 110, 101, 109, 111, 114])"
            ]
          },
          "metadata": {},
          "execution_count": 40
        }
      ]
    },
    {
      "cell_type": "markdown",
      "metadata": {
        "id": "j-D2z-XCpn-U"
      },
      "source": [
        "or the first natural numbers"
      ]
    },
    {
      "cell_type": "code",
      "metadata": {
        "id": "b4vOSbWKpn-V",
        "colab": {
          "base_uri": "https://localhost:8080/"
        },
        "outputId": "e3e52793-103d-4302-beb2-1c6ac50cee62"
      },
      "source": [
        "p = np.random.permutation(20)\n",
        "p"
      ],
      "execution_count": null,
      "outputs": [
        {
          "output_type": "execute_result",
          "data": {
            "text/plain": [
              "array([18, 15, 10, 13,  4,  0, 12,  7,  6,  2, 16,  5,  8, 14,  9,  1, 17,\n",
              "        3, 11, 19])"
            ]
          },
          "metadata": {},
          "execution_count": 41
        }
      ]
    },
    {
      "cell_type": "markdown",
      "metadata": {
        "id": "zSIXEzLApn-V"
      },
      "source": [
        "how do you interpret this?"
      ]
    },
    {
      "cell_type": "code",
      "metadata": {
        "colab": {
          "base_uri": "https://localhost:8080/"
        },
        "id": "Q5-6s395swTm",
        "outputId": "1355e9e6-633c-464d-a5d3-b32a0bd07beb"
      },
      "source": [
        "p[:5]"
      ],
      "execution_count": null,
      "outputs": [
        {
          "output_type": "execute_result",
          "data": {
            "text/plain": [
              "array([18, 15, 10, 13,  4])"
            ]
          },
          "metadata": {},
          "execution_count": 46
        }
      ]
    },
    {
      "cell_type": "code",
      "metadata": {
        "colab": {
          "base_uri": "https://localhost:8080/"
        },
        "id": "ZQ1XegrGs0-d",
        "outputId": "61b77ea4-8c7c-4e93-f9d4-9e13c9046a68"
      },
      "source": [
        "v[[0]]"
      ],
      "execution_count": null,
      "outputs": [
        {
          "output_type": "execute_result",
          "data": {
            "text/plain": [
              "array([100])"
            ]
          },
          "metadata": {},
          "execution_count": 44
        }
      ]
    },
    {
      "cell_type": "code",
      "metadata": {
        "id": "gmmNNzBZpn-V",
        "colab": {
          "base_uri": "https://localhost:8080/"
        },
        "outputId": "d64a40d8-ecef-4503-cd84-7dd2cd80dbcb"
      },
      "source": [
        "v[p[5:]]"
      ],
      "execution_count": null,
      "outputs": [
        {
          "output_type": "execute_result",
          "data": {
            "text/plain": [
              "array([100, 112, 107, 106, 102, 116, 105, 108, 114, 109, 101, 117, 103,\n",
              "       111, 119])"
            ]
          },
          "metadata": {},
          "execution_count": 42
        }
      ]
    },
    {
      "cell_type": "code",
      "metadata": {
        "colab": {
          "base_uri": "https://localhost:8080/"
        },
        "id": "dw7c7kn2tOhc",
        "outputId": "69ee319a-7d00-497f-e492-e1b015a2df6c"
      },
      "source": [
        "x[[18, 15, 10, 13,  18],3:]"
      ],
      "execution_count": null,
      "outputs": [
        {
          "output_type": "execute_result",
          "data": {
            "text/plain": [
              "array([[ 8, 96],\n",
              "       [63, 20],\n",
              "       [86, 64],\n",
              "       [97, 75],\n",
              "       [ 8, 96]])"
            ]
          },
          "metadata": {},
          "execution_count": 53
        }
      ]
    },
    {
      "cell_type": "code",
      "metadata": {
        "id": "9j0RCfFKpn-V",
        "colab": {
          "base_uri": "https://localhost:8080/"
        },
        "outputId": "f5d20bb6-4cc2-47d3-f8bb-a9ea27e32c7c"
      },
      "source": [
        "x[p[:5]]"
      ],
      "execution_count": null,
      "outputs": [
        {
          "output_type": "execute_result",
          "data": {
            "text/plain": [
              "array([[18, 57,  4,  8, 96],\n",
              "       [15, 58, 46, 63, 20],\n",
              "       [10, 66, 22, 86, 64],\n",
              "       [13, 43,  0, 97, 75],\n",
              "       [ 4, 21, 70, 72, 73]])"
            ]
          },
          "metadata": {},
          "execution_count": 54
        }
      ]
    },
    {
      "cell_type": "code",
      "metadata": {
        "id": "dGPuPRl1pn-W"
      },
      "source": [
        ""
      ],
      "execution_count": null,
      "outputs": []
    },
    {
      "cell_type": "code",
      "metadata": {
        "id": "yydoU2iqpn-W"
      },
      "source": [
        ""
      ],
      "execution_count": null,
      "outputs": []
    },
    {
      "cell_type": "markdown",
      "metadata": {
        "id": "GoysLUdmpn-X"
      },
      "source": [
        "### assignment\n",
        "\n",
        "in this task you will have to complete the function  `split_data` below so that:\n",
        "\n",
        "- it accepts two arguments `X` and `y`, either of which can be any numpy array (1D, 2D, etc.) of the **same** size $n$ (observe the  `assert` statement), and a `pct` \n",
        "- creates a random permutation of the natural number from $0$ to $n-1$\n",
        "- partitions the permutations so that the first partition contains the first `n1_elements` $=$ `int(n * pct)` numbers, and the second partition the rest\n",
        "- interpret the permutation partitions components as indexes to `X` and `y` so that they are partitioned into `X1`, `X2` and `y1`, `y2` respectively\n",
        "\n",
        "note that **indexes to array** must be of type `int`. do the following to convert a float to int"
      ]
    },
    {
      "cell_type": "code",
      "metadata": {
        "id": "yM2o2RDGpn-X",
        "colab": {
          "base_uri": "https://localhost:8080/"
        },
        "outputId": "626a8102-7058-4bd6-a69b-fba40637149f"
      },
      "source": [
        "a,b = 10,.3\n",
        "c = a*b\n",
        "print (c)\n",
        "c = int(c)\n",
        "print(c)"
      ],
      "execution_count": null,
      "outputs": [
        {
          "output_type": "stream",
          "name": "stdout",
          "text": [
            "3.0\n",
            "3\n"
          ]
        }
      ]
    },
    {
      "cell_type": "code",
      "metadata": {
        "colab": {
          "base_uri": "https://localhost:8080/"
        },
        "id": "UFYmPz_iwBZc",
        "outputId": "3203bc64-3c93-4603-9671-f91ce84a1b4a"
      },
      "source": [
        "XX = np.random.randint(100, size=(20,8))\n",
        "yy = np.arange(100,100+len(XX))\n",
        "XX[:,0] = range(len(XX))\n",
        "XX[0,:] = range(XX.shape[1])\n",
        "print (XX)\n",
        "print (yy)\n",
        "len(yy)"
      ],
      "execution_count": null,
      "outputs": [
        {
          "output_type": "stream",
          "name": "stdout",
          "text": [
            "[[ 0  1  2  3  4  5  6  7]\n",
            " [ 1 95 40 70 38 85 47 69]\n",
            " [ 2 16 80 19 78 10 20 96]\n",
            " [ 3 23 26 27 69 26 63 12]\n",
            " [ 4 93 28 64 41 32 48  9]\n",
            " [ 5 71 22 59 56 39 99 95]\n",
            " [ 6 70 99 16 95 86 75 98]\n",
            " [ 7 17 61 11 75 81 31 89]\n",
            " [ 8  6 10 52 27 77 48 50]\n",
            " [ 9 58 29 19 46 48 52 24]\n",
            " [10 54 49 38  2 54 60 20]\n",
            " [11 64 96 65 63 86 51 24]\n",
            " [12 78 73 19  8 15  3 73]\n",
            " [13 20 73 66 49 49  5  2]\n",
            " [14 62 87 94 34 82 70 39]\n",
            " [15 18 57  0 63 78 45 95]\n",
            " [16 39 75 22 83 83  3 75]\n",
            " [17 80 60 76 65 53 11 12]\n",
            " [18 12 57  9 94 29  8 96]\n",
            " [19 73 32 60 53 61 34 38]]\n",
            "[100 101 102 103 104 105 106 107 108 109 110 111 112 113 114 115 116 117\n",
            " 118 119]\n"
          ]
        },
        {
          "output_type": "execute_result",
          "data": {
            "text/plain": [
              "20"
            ]
          },
          "metadata": {},
          "execution_count": 60
        }
      ]
    },
    {
      "cell_type": "code",
      "metadata": {
        "id": "M8rI1OUYpn-X"
      },
      "source": [
        "def split_data(X, y, pct):\n",
        "    \n",
        "    assert len(X)==len(y), \"X and y must have the same length\"\n",
        "    assert pct>0 and pct<1, \"pct must be in the (0,1) iterval\"\n",
        "    \n",
        "    permutation = np.random.permutation(len(X)) \n",
        "    n1_elements = int(len(X)*pct)\n",
        "    permutation_partition_1 = permutation[:n1_elements]\n",
        "    permutation_partition_2 = permutation[n1_elements:]\n",
        "    X1 = X[permutation_partition_1]\n",
        "    X2 = X[permutation_partition_2]\n",
        "    y1 = y[permutation_partition_1] \n",
        "    y2 = y[permutation_partition_2] \n",
        "    return X1, X2, y1, y2"
      ],
      "execution_count": null,
      "outputs": []
    },
    {
      "cell_type": "markdown",
      "metadata": {
        "id": "LsJ-8aoHpn-Y"
      },
      "source": [
        "check your solution manually with the following code"
      ]
    },
    {
      "cell_type": "code",
      "metadata": {
        "id": "U6GnrLMFpn-Y",
        "colab": {
          "base_uri": "https://localhost:8080/"
        },
        "outputId": "b0053e6b-4bb0-4b30-85e5-89d6d37072da"
      },
      "source": [
        "XX = np.random.randint(100, size=(20,8))\n",
        "yy = np.arange(100,100+len(XX))\n",
        "XX[:,0] = range(len(XX))\n",
        "XX[0,:] = range(XX.shape[1])\n",
        "print (XX)\n",
        "print (yy)"
      ],
      "execution_count": null,
      "outputs": [
        {
          "output_type": "stream",
          "name": "stdout",
          "text": [
            "[[ 0  1  2  3  4  5  6  7]\n",
            " [ 1 75 39 95 61 88 25 67]\n",
            " [ 2 13 72 85 12 46 34 78]\n",
            " [ 3 13 56 81 40 41 13 88]\n",
            " [ 4 90 31 64 89 29 83 15]\n",
            " [ 5 87 89 61 11 62 75 91]\n",
            " [ 6 33 11  4  6 33 16 71]\n",
            " [ 7 66 62 99 93 99 78 26]\n",
            " [ 8 51  8 47 90 31 93 51]\n",
            " [ 9  9 38 55 22  3 13 96]\n",
            " [10 93 33 75 14 60 82 95]\n",
            " [11 85 52 76 96 39 96 80]\n",
            " [12 55 31 28 98 55 68 59]\n",
            " [13 31 77 95 90 61 49 70]\n",
            " [14 81 55 78 49 33  9  2]\n",
            " [15 16  7 80  6 68 80 27]\n",
            " [16  3 24 45 38 75 28 23]\n",
            " [17 38 22 50  8 46 35 96]\n",
            " [18 82  2 49 90  9 94 34]\n",
            " [19 79 15 68 16 44 83  6]]\n",
            "[100 101 102 103 104 105 106 107 108 109 110 111 112 113 114 115 116 117\n",
            " 118 119]\n"
          ]
        }
      ]
    },
    {
      "cell_type": "code",
      "metadata": {
        "id": "eqGG-FErpn-Y",
        "colab": {
          "base_uri": "https://localhost:8080/"
        },
        "outputId": "cd9d4d8b-fd8f-44a8-d636-74ffae0c2673"
      },
      "source": [
        "Xtr, Xts, ytr, yts = split_data(XX, yy, pct=.7)\n",
        "Xtr"
      ],
      "execution_count": null,
      "outputs": [
        {
          "output_type": "execute_result",
          "data": {
            "text/plain": [
              "array([[13, 31, 77, 95, 90, 61, 49, 70],\n",
              "       [ 2, 13, 72, 85, 12, 46, 34, 78],\n",
              "       [15, 16,  7, 80,  6, 68, 80, 27],\n",
              "       [10, 93, 33, 75, 14, 60, 82, 95],\n",
              "       [11, 85, 52, 76, 96, 39, 96, 80],\n",
              "       [ 1, 75, 39, 95, 61, 88, 25, 67],\n",
              "       [ 6, 33, 11,  4,  6, 33, 16, 71],\n",
              "       [16,  3, 24, 45, 38, 75, 28, 23],\n",
              "       [ 8, 51,  8, 47, 90, 31, 93, 51],\n",
              "       [19, 79, 15, 68, 16, 44, 83,  6],\n",
              "       [ 9,  9, 38, 55, 22,  3, 13, 96],\n",
              "       [ 4, 90, 31, 64, 89, 29, 83, 15],\n",
              "       [14, 81, 55, 78, 49, 33,  9,  2],\n",
              "       [ 7, 66, 62, 99, 93, 99, 78, 26]])"
            ]
          },
          "metadata": {},
          "execution_count": 69
        }
      ]
    },
    {
      "cell_type": "code",
      "metadata": {
        "id": "vbuFo-Cbpn-Y",
        "colab": {
          "base_uri": "https://localhost:8080/"
        },
        "outputId": "a0450603-1e80-43bf-8bd5-896ee519108c"
      },
      "source": [
        "# check partition ok\n",
        "np.sum(XX), np.sum(Xtr) + np.sum(Xts), np.sum(yy), np.sum(ytr)+np.sum(yts)"
      ],
      "execution_count": null,
      "outputs": [
        {
          "output_type": "execute_result",
          "data": {
            "text/plain": [
              "(7157, 7157, 2190, 2190)"
            ]
          },
          "metadata": {},
          "execution_count": 70
        }
      ]
    },
    {
      "cell_type": "code",
      "metadata": {
        "id": "Grmu5gVapn-Z",
        "colab": {
          "base_uri": "https://localhost:8080/"
        },
        "outputId": "95ff8e00-8898-4ff7-eb81-42d74beaad74"
      },
      "source": [
        "print (Xtr, \"\\n--\")\n",
        "print (Xts, \"\\n--\")\n",
        "print (ytr, \"\\n--\")\n",
        "print (yts, \"\\n--\")"
      ],
      "execution_count": null,
      "outputs": [
        {
          "output_type": "stream",
          "name": "stdout",
          "text": [
            "[[13 31 77 95 90 61 49 70]\n",
            " [ 2 13 72 85 12 46 34 78]\n",
            " [15 16  7 80  6 68 80 27]\n",
            " [10 93 33 75 14 60 82 95]\n",
            " [11 85 52 76 96 39 96 80]\n",
            " [ 1 75 39 95 61 88 25 67]\n",
            " [ 6 33 11  4  6 33 16 71]\n",
            " [16  3 24 45 38 75 28 23]\n",
            " [ 8 51  8 47 90 31 93 51]\n",
            " [19 79 15 68 16 44 83  6]\n",
            " [ 9  9 38 55 22  3 13 96]\n",
            " [ 4 90 31 64 89 29 83 15]\n",
            " [14 81 55 78 49 33  9  2]\n",
            " [ 7 66 62 99 93 99 78 26]] \n",
            "--\n",
            "[[17 38 22 50  8 46 35 96]\n",
            " [ 5 87 89 61 11 62 75 91]\n",
            " [18 82  2 49 90  9 94 34]\n",
            " [ 3 13 56 81 40 41 13 88]\n",
            " [12 55 31 28 98 55 68 59]\n",
            " [ 0  1  2  3  4  5  6  7]] \n",
            "--\n",
            "[113 102 115 110 111 101 106 116 108 119 109 104 114 107] \n",
            "--\n",
            "[117 105 118 103 112 100] \n",
            "--\n"
          ]
        }
      ]
    },
    {
      "cell_type": "code",
      "metadata": {
        "id": "qVXIYRBnpn-Z"
      },
      "source": [
        "Xts"
      ],
      "execution_count": null,
      "outputs": []
    },
    {
      "cell_type": "code",
      "metadata": {
        "id": "wilwICLdpn-Z"
      },
      "source": [
        ""
      ],
      "execution_count": null,
      "outputs": []
    },
    {
      "cell_type": "markdown",
      "metadata": {
        "id": "0vxUyEPopn-Z"
      },
      "source": [
        "**submit your code**"
      ]
    },
    {
      "cell_type": "code",
      "metadata": {
        "scrolled": true,
        "id": "JJjXjecapn-a",
        "colab": {
          "base_uri": "https://localhost:8080/",
          "height": 126
        },
        "outputId": "d7280fef-3850-46a0-cdf3-ae114fbb2820"
      },
      "source": [
        "student.submit_task(globals(), task_id=\"task_01\");\n"
      ],
      "execution_count": null,
      "outputs": [
        {
          "output_type": "display_data",
          "data": {
            "text/html": [
              "\n",
              "                    <b>task_01 submitted.</b> <b><font color=\"blue\">your grade is 5</font></b> \n",
              "                    <p/><pre>----- grader message -------</pre>testing with 100 random calls<br/><b>correct</b><pre>----------------------------</pre>\n",
              "                    <p/><p/>\n",
              "                    <div style=\"font-size:10px\"><b>SUBMISSION CODE</b> GCHxqhgk3xmRJ1PO9gjzz8OzCdubUUl8o4MQx804z0tfsnFpKM+Sw2KKgu8Ehkv03BtQQJ8DxvpKBy9r46HL7/y5gV6fwoJg5NIdvI0D09oq9NF5aBhGo6qgSksjDlwccqplAqse6eiz93Mske6c1g==</div>\n",
              "                    "
            ],
            "text/plain": [
              "<IPython.core.display.HTML object>"
            ]
          },
          "metadata": {}
        }
      ]
    },
    {
      "cell_type": "code",
      "metadata": {
        "id": "aP2FwD3Tpn-b"
      },
      "source": [
        ""
      ],
      "execution_count": null,
      "outputs": []
    },
    {
      "cell_type": "markdown",
      "metadata": {
        "id": "ndE9zfBzpn-b"
      },
      "source": [
        "## Task 2: Fit a model and make predictions"
      ]
    },
    {
      "cell_type": "markdown",
      "metadata": {
        "id": "j7yYcJcopn-b"
      },
      "source": [
        "observe how we create new data from synthetic datasets available in `sklearn`"
      ]
    },
    {
      "cell_type": "code",
      "metadata": {
        "id": "LEVBigjKpn-b"
      },
      "source": [
        "from sklearn.datasets import make_moons\n",
        "import matplotlib.pyplot as plt\n",
        "from local.lib import mlutils\n",
        "%matplotlib inline"
      ],
      "execution_count": null,
      "outputs": []
    },
    {
      "cell_type": "code",
      "metadata": {
        "id": "3aOrssropn-c",
        "colab": {
          "base_uri": "https://localhost:8080/"
        },
        "outputId": "3cc167a8-9749-4398-e39b-f310e2d32faf"
      },
      "source": [
        "X, y = make_moons(200, noise=0.2)\n",
        "X.shape, y.shape"
      ],
      "execution_count": null,
      "outputs": [
        {
          "output_type": "execute_result",
          "data": {
            "text/plain": [
              "((200, 2), (200,))"
            ]
          },
          "metadata": {},
          "execution_count": 127
        }
      ]
    },
    {
      "cell_type": "code",
      "metadata": {
        "id": "7_cyswoapn-c",
        "colab": {
          "base_uri": "https://localhost:8080/",
          "height": 265
        },
        "outputId": "32081a53-46cf-4d94-aefd-45b16cbb55db"
      },
      "source": [
        "mlutils.plot_2Ddata(X,y); plt.grid();"
      ],
      "execution_count": null,
      "outputs": [
        {
          "output_type": "display_data",
          "data": {
            "image/png": "[encoded data removed]",
            "text/plain": [
              "<Figure size 432x288 with 1 Axes>"
            ]
          },
          "metadata": {
            "needs_background": "light"
          }
        }
      ]
    },
    {
      "cell_type": "markdown",
      "metadata": {
        "id": "A3F3u905pn-c"
      },
      "source": [
        "observe also how we create an algorithm instance and fit a model"
      ]
    },
    {
      "cell_type": "code",
      "metadata": {
        "id": "z47OCTY2pn-c",
        "colab": {
          "base_uri": "https://localhost:8080/",
          "height": 283
        },
        "outputId": "3d9c6fdb-c688-4e48-ccd7-2773f6afa284"
      },
      "source": [
        "from sklearn.svm import SVC\n",
        "estimator = SVC(gamma=1)\n",
        "estimator.fit(X,y)\n",
        "mlutils.plot_2Ddata_with_boundary(estimator.predict, X, y)"
      ],
      "execution_count": null,
      "outputs": [
        {
          "output_type": "execute_result",
          "data": {
            "text/plain": [
              "(0.48705, 0.51295)"
            ]
          },
          "metadata": {},
          "execution_count": 129
        },
        {
          "output_type": "display_data",
          "data": {
            "image/png": "[encoded data removed]",
            "text/plain": [
              "<Figure size 432x288 with 1 Axes>"
            ]
          },
          "metadata": {
            "needs_background": "light"
          }
        }
      ]
    },
    {
      "cell_type": "markdown",
      "metadata": {
        "id": "ZqYWxArLpn-c"
      },
      "source": [
        "and how we make predictions"
      ]
    },
    {
      "cell_type": "code",
      "metadata": {
        "id": "9CXNpdrlpn-c",
        "colab": {
          "base_uri": "https://localhost:8080/"
        },
        "outputId": "23318d4f-615b-422f-e881-d6fbab5b1f75"
      },
      "source": [
        "preds = estimator.predict(X)\n",
        "print (preds.shape)\n",
        "preds"
      ],
      "execution_count": null,
      "outputs": [
        {
          "output_type": "stream",
          "name": "stdout",
          "text": [
            "(200,)\n"
          ]
        },
        {
          "output_type": "execute_result",
          "data": {
            "text/plain": [
              "array([0, 1, 0, 1, 0, 1, 0, 1, 0, 1, 1, 1, 1, 1, 0, 1, 0, 1, 0, 1, 1, 0,\n",
              "       1, 0, 1, 0, 0, 0, 1, 1, 0, 1, 1, 0, 1, 1, 0, 1, 0, 1, 1, 0, 0, 1,\n",
              "       1, 0, 0, 0, 0, 1, 1, 0, 0, 1, 1, 0, 0, 1, 0, 1, 1, 0, 0, 0, 1, 1,\n",
              "       1, 0, 0, 1, 0, 0, 0, 0, 0, 1, 1, 0, 0, 1, 0, 0, 1, 0, 0, 1, 0, 0,\n",
              "       1, 0, 1, 0, 1, 1, 0, 0, 1, 0, 1, 1, 0, 0, 0, 1, 0, 1, 0, 1, 0, 0,\n",
              "       0, 0, 0, 0, 1, 1, 1, 1, 1, 1, 0, 1, 0, 1, 1, 1, 1, 1, 1, 1, 0, 1,\n",
              "       0, 1, 1, 0, 0, 1, 0, 1, 1, 1, 1, 0, 1, 0, 0, 0, 1, 0, 1, 0, 1, 0,\n",
              "       0, 0, 0, 0, 1, 1, 1, 0, 1, 0, 0, 0, 1, 1, 1, 0, 1, 1, 0, 1, 0, 0,\n",
              "       1, 1, 0, 1, 1, 1, 1, 1, 1, 1, 1, 0, 1, 1, 0, 0, 1, 1, 0, 1, 1, 1,\n",
              "       1, 1])"
            ]
          },
          "metadata": {},
          "execution_count": 130
        }
      ]
    },
    {
      "cell_type": "markdown",
      "metadata": {
        "id": "Cgk1YfhSpn-d"
      },
      "source": [
        "in this task you have to complete the following function so that:\n",
        "\n",
        "- it makes two non-random partitions of `X` and `y`. One containing the first half of the data and one containing the second part. If the number of elements of `X` is odd, then the second half will contain one more element than the first half.\n",
        "- it fits the model with the first part of the data\n",
        "- it makes predictions on the second half of the data\n",
        "- returns the estimator fitted, and the predictions on the second half of the data."
      ]
    },
    {
      "cell_type": "code",
      "metadata": {
        "id": "Mk7yuVHiTI2s"
      },
      "source": [
        "def split_data(X, y, pct):\n",
        "    \n",
        "      assert len(X)==len(y), \"X and y must have the same length\"\n",
        "      assert pct>0 and pct<1, \"pct must be in the (0,1) iterval\"\n",
        "      \n",
        "      permutation = np.random.permutation(len(X)) \n",
        "      n1_elements = int(len(X)*pct)\n",
        "      permutation_partition_1 = permutation[:n1_elements]\n",
        "      permutation_partition_2 = permutation[n1_elements:]\n",
        "      X1 = X[permutation_partition_1]\n",
        "      X2 = X[permutation_partition_2]\n",
        "      y1 = y[permutation_partition_1] \n",
        "      y2 = y[permutation_partition_2] \n",
        "\n",
        "      return X1, X2, y1, y2"
      ],
      "execution_count": null,
      "outputs": []
    },
    {
      "cell_type": "code",
      "metadata": {
        "id": "EH1xpEQxpn-d"
      },
      "source": [
        "\n",
        "\n",
        "def fit_and_predict(estimator, X, y):\n",
        "    assert len(X)==len(y), \"X and y must have the same length\"\n",
        "    n = int(round(len(X)/2 - 0.1,0))\n",
        "\n",
        "    Xtr = X[:n]\n",
        "    Xts = X[n:]\n",
        "    ytr = y[:n]\n",
        "    yts = y[n:] \n",
        "    estimator.fit(Xtr,ytr)\n",
        "    predictions = estimator.predict(Xts)\n",
        "    \n",
        "    return estimator, predictions"
      ],
      "execution_count": null,
      "outputs": []
    },
    {
      "cell_type": "markdown",
      "metadata": {
        "id": "nH7YEWfspn-d"
      },
      "source": [
        "check your code. your predictions should be similar to\n",
        "\n",
        "    preds\n",
        "    >> array([0, 0, 0, 0, 1, 0, 1, 1, 1, 0])"
      ]
    },
    {
      "cell_type": "code",
      "metadata": {
        "id": "l4CMKhOypn-d",
        "colab": {
          "base_uri": "https://localhost:8080/"
        },
        "outputId": "1a6d9089-e8dd-4756-9e77-0cb3eae12da2"
      },
      "source": [
        "X = np.array([[ 0.74799424, -0.5867667 ],\n",
        "       [-0.64457753,  1.25127894],\n",
        "       [ 0.53682593,  0.10931563],\n",
        "       [-0.88825294, -0.06987509],\n",
        "       [ 0.99612638, -0.52295157],\n",
        "       [ 1.20586692,  0.01930477],\n",
        "       [-0.19368482,  0.65121567],\n",
        "       [ 0.1973759 ,  0.82250723],\n",
        "       [ 0.94859234, -0.5457241 ],\n",
        "       [ 1.87967948, -0.22740261],\n",
        "       [ 0.58766146,  0.3982837 ],\n",
        "       [ 0.27731571,  1.14369568],\n",
        "       [-0.67421956,  0.12785382],\n",
        "       [ 0.56957459,  1.05330376],\n",
        "       [ 1.52435938, -0.29864338],\n",
        "       [-0.15973608,  0.21790711],\n",
        "       [ 1.59037406, -0.56875485],\n",
        "       [ 0.43257507, -0.48900315],\n",
        "       [ 1.09440413, -0.73789029],\n",
        "       [-0.32940869,  0.74671384]])\n",
        "y = np.array([1, 0, 1, 0, 1, 0, 0, 0, 1, 1, 0, 0, 0, 0, 1, 1, 1, 1, 1, 0])\n",
        "X.shape, y.shape"
      ],
      "execution_count": null,
      "outputs": [
        {
          "output_type": "execute_result",
          "data": {
            "text/plain": [
              "((20, 2), (20,))"
            ]
          },
          "metadata": {},
          "execution_count": 145
        }
      ]
    },
    {
      "cell_type": "code",
      "metadata": {
        "colab": {
          "base_uri": "https://localhost:8080/"
        },
        "id": "p0ruaA1iTij8",
        "outputId": "199ab3cd-9374-4af9-91d3-afd0e7b5f416"
      },
      "source": [
        "print(len(X))\n",
        "n = round(21/2 - 0.1,0)\n",
        "int(n)"
      ],
      "execution_count": null,
      "outputs": [
        {
          "output_type": "stream",
          "name": "stdout",
          "text": [
            "20\n"
          ]
        },
        {
          "output_type": "execute_result",
          "data": {
            "text/plain": [
              "10"
            ]
          },
          "metadata": {},
          "execution_count": 146
        }
      ]
    },
    {
      "cell_type": "code",
      "metadata": {
        "id": "ZJ0B1WeEpn-d",
        "colab": {
          "base_uri": "https://localhost:8080/"
        },
        "outputId": "3c5fbe93-45f9-40a7-dbe7-2d9ac55b4376"
      },
      "source": [
        "from sklearn.linear_model import LogisticRegression\n",
        "estimator = LogisticRegression()\n",
        "estimator, preds = fit_and_predict(estimator, X, y)\n",
        "preds"
      ],
      "execution_count": null,
      "outputs": [
        {
          "output_type": "execute_result",
          "data": {
            "text/plain": [
              "array([0, 0, 0, 0, 1, 0, 1, 1, 1, 0])"
            ]
          },
          "metadata": {},
          "execution_count": 149
        }
      ]
    },
    {
      "cell_type": "code",
      "metadata": {
        "id": "SBTURt5opn-d"
      },
      "source": [
        "\n"
      ],
      "execution_count": null,
      "outputs": []
    },
    {
      "cell_type": "markdown",
      "metadata": {
        "id": "1jVoLVpnpn-e"
      },
      "source": [
        "**submit your code**"
      ]
    },
    {
      "cell_type": "code",
      "metadata": {
        "id": "aigqpGqKpn-e",
        "colab": {
          "base_uri": "https://localhost:8080/",
          "height": 126
        },
        "outputId": "9da39d48-c253-415b-ee08-ad5513c8afa9"
      },
      "source": [
        "student.submit_task(globals(), task_id=\"task_02\");\n"
      ],
      "execution_count": null,
      "outputs": [
        {
          "output_type": "display_data",
          "data": {
            "text/html": [
              "\n",
              "                    <b>task_02 submitted.</b> <b><font color=\"blue\">your grade is 5</font></b> \n",
              "                    <p/><pre>----- grader message -------</pre>testing with 100 random calls<br/><b>correct</b><pre>----------------------------</pre>\n",
              "                    <p/><p/>\n",
              "                    <div style=\"font-size:10px\"><b>SUBMISSION CODE</b> lyxUOZNHM/ttHojPSqmog9i8JCN1UVB/mJCb3vcivMvOpe1aKOpUZ4WjlQrjxNA0p31lGyn4Qlj+RN/FzCI10nzF008hCCWsxLxPxl2U07KawvDKphGBBPNhOxPbTpPq59/7ctZnpIe5gE7OI76DKQ==</div>\n",
              "                    "
            ],
            "text/plain": [
              "<IPython.core.display.HTML object>"
            ]
          },
          "metadata": {}
        }
      ]
    },
    {
      "cell_type": "code",
      "metadata": {
        "id": "-D9_8eujpn-e"
      },
      "source": [
        ""
      ],
      "execution_count": null,
      "outputs": []
    },
    {
      "cell_type": "markdown",
      "metadata": {
        "id": "lct5P4dZpn-e"
      },
      "source": [
        "## Task 3: Select data with indices\n",
        "\n",
        "Observe how we can create a vector or matrix of `True/False` (boolean) by applying a condition to any matrix or vector"
      ]
    },
    {
      "cell_type": "code",
      "metadata": {
        "id": "eFOS9hKOpn-e",
        "colab": {
          "base_uri": "https://localhost:8080/"
        },
        "outputId": "728c1e81-9d7c-4e5c-f22b-fe7e9fbfd137"
      },
      "source": [
        "import numpy as np\n",
        "y = np.random.randint(10, size=15)\n",
        "print (y)"
      ],
      "execution_count": null,
      "outputs": [
        {
          "output_type": "stream",
          "name": "stdout",
          "text": [
            "[6 2 8 7 7 5 0 7 0 1 1 6 8 5 6]\n"
          ]
        }
      ]
    },
    {
      "cell_type": "code",
      "metadata": {
        "id": "tnwpU-cZpn-e",
        "colab": {
          "base_uri": "https://localhost:8080/"
        },
        "outputId": "517e29b1-b297-48ca-8fd9-474bb8261df7"
      },
      "source": [
        "y_less_than_5 = y<5\n",
        "print (y_less_than_5)"
      ],
      "execution_count": null,
      "outputs": [
        {
          "output_type": "stream",
          "name": "stdout",
          "text": [
            "[False  True False False False False  True False  True  True  True False\n",
            " False False False]\n"
          ]
        }
      ]
    },
    {
      "cell_type": "markdown",
      "metadata": {
        "id": "xRnQMwHvpn-e"
      },
      "source": [
        "and how we can select elements of a vector using a boolean vector of the same length"
      ]
    },
    {
      "cell_type": "code",
      "metadata": {
        "id": "gUUpvGzvpn-f",
        "colab": {
          "base_uri": "https://localhost:8080/"
        },
        "outputId": "b0a5e45f-9f44-4af2-8bd6-e935901474e0"
      },
      "source": [
        "y[y_less_than_5]"
      ],
      "execution_count": null,
      "outputs": [
        {
          "output_type": "execute_result",
          "data": {
            "text/plain": [
              "array([2, 0, 0, 1, 1])"
            ]
          },
          "metadata": {},
          "execution_count": 154
        }
      ]
    },
    {
      "cell_type": "code",
      "metadata": {
        "id": "Qu4T9RaUpn-f",
        "colab": {
          "base_uri": "https://localhost:8080/"
        },
        "outputId": "f0949a2d-619b-4675-9118-a417861b92ab"
      },
      "source": [
        "y[y<5]"
      ],
      "execution_count": null,
      "outputs": [
        {
          "output_type": "execute_result",
          "data": {
            "text/plain": [
              "array([2, 0, 0, 1, 1])"
            ]
          },
          "metadata": {},
          "execution_count": 155
        }
      ]
    },
    {
      "cell_type": "markdown",
      "metadata": {
        "id": "FSG_Qs9ppn-f"
      },
      "source": [
        "python doesn't really care how you construct the vector of booleans to index any other vector or array"
      ]
    },
    {
      "cell_type": "code",
      "metadata": {
        "id": "_sTw46H9pn-f",
        "colab": {
          "base_uri": "https://localhost:8080/"
        },
        "outputId": "65ddde90-4aeb-4efa-c162-0250752f19b5"
      },
      "source": [
        "v = np.random.randint(20, size=15)\n",
        "v"
      ],
      "execution_count": null,
      "outputs": [
        {
          "output_type": "execute_result",
          "data": {
            "text/plain": [
              "array([ 8,  1, 13, 11, 11, 18,  0, 10,  0,  0,  9, 11, 13,  1,  1])"
            ]
          },
          "metadata": {},
          "execution_count": 156
        }
      ]
    },
    {
      "cell_type": "code",
      "metadata": {
        "id": "k3HTiPYGpn-f",
        "colab": {
          "base_uri": "https://localhost:8080/"
        },
        "outputId": "a9178c3c-9ee8-4c01-f670-7a89d39f25c3"
      },
      "source": [
        "v[y<5]"
      ],
      "execution_count": null,
      "outputs": [
        {
          "output_type": "execute_result",
          "data": {
            "text/plain": [
              "array([1, 0, 0, 0, 9])"
            ]
          },
          "metadata": {},
          "execution_count": 157
        }
      ]
    },
    {
      "cell_type": "markdown",
      "metadata": {
        "id": "LqROUdV4pn-f"
      },
      "source": [
        "in this task you will complete the function `select_per_class` such that:\n",
        "\n",
        "- receives an array of data `X` and a vector of labels `y`, of the same length\n",
        "- the labels `y` are binary, they can only have values `0` or `1`\n",
        "- makes two partitions of `X`, one corresponding to the places where y is 0, and another where y is 1\n",
        "- returns the two partitions\n",
        "\n",
        "For instance, for the following X and y\n",
        "\n",
        "    X = np.array([[8, 8, 5, 2, 0, 0],\n",
        "                  [4, 4, 8, 1, 3, 7],\n",
        "                  [4, 5, 3, 6, 9, 6],\n",
        "                  [0, 3, 5, 3, 5, 3],\n",
        "                  [0, 7, 2, 7, 1, 7],\n",
        "                  [5, 7, 7, 1, 8, 5],\n",
        "                  [2, 5, 7, 3, 8, 0],\n",
        "                  [7, 2, 5, 9, 8, 7],\n",
        "                  [1, 6, 6, 1, 6, 0],\n",
        "                  [0, 7, 6, 5, 3, 4]])\n",
        "\n",
        "    y = np.array([0, 0, 0, 0, 1, 1, 0, 0, 1, 1])\n",
        "\n",
        "your function must return the following two matrices:\n",
        "\n",
        "    [[8 8 5 2 0 0]\n",
        "     [4 4 8 1 3 7]\n",
        "     [4 5 3 6 9 6]\n",
        "     [0 3 5 3 5 3]\n",
        "     [2 5 7 3 8 0]\n",
        "     [7 2 5 9 8 7]]\n",
        "     \n",
        "    [[0 7 2 7 1 7]\n",
        "     [5 7 7 1 8 5]\n",
        "     [1 6 6 1 6 0]\n",
        "     [0 7 6 5 3 4]]\n"
      ]
    },
    {
      "cell_type": "code",
      "metadata": {
        "id": "nks6Xbd1pn-g"
      },
      "source": [
        "def select_per_class(X, y):\n",
        "    F = []; T = []\n",
        "    for i in range(0,len(y)):\n",
        "      if y[i]==0:\n",
        "        F. append(i)\n",
        "      else:\n",
        "        T.append(i)\n",
        "    X1 = X[F]\n",
        "    X2 = X[T]\n",
        "    return X1, X2"
      ],
      "execution_count": null,
      "outputs": []
    },
    {
      "cell_type": "markdown",
      "metadata": {
        "id": "39BDDcqqpn-k"
      },
      "source": [
        "check manually your code"
      ]
    },
    {
      "cell_type": "code",
      "metadata": {
        "id": "B3ekvmQZpn-k"
      },
      "source": [
        "X = np.array([[8, 8, 5, 2, 0, 0],\n",
        "              [4, 4, 8, 1, 3, 7],\n",
        "              [4, 5, 3, 6, 9, 6],\n",
        "              [0, 3, 5, 3, 5, 3],\n",
        "              [0, 7, 2, 7, 1, 7],\n",
        "              [5, 7, 7, 1, 8, 5],\n",
        "              [2, 5, 7, 3, 8, 0],\n",
        "              [7, 2, 5, 9, 8, 7],\n",
        "              [1, 6, 6, 1, 6, 0],\n",
        "              [0, 7, 6, 5, 3, 4]])\n",
        "\n",
        "y = np.array([0, 0, 0, 0, 1, 1, 0, 0, 1, 1])"
      ],
      "execution_count": null,
      "outputs": []
    },
    {
      "cell_type": "code",
      "metadata": {
        "colab": {
          "base_uri": "https://localhost:8080/"
        },
        "id": "o1ezGEpRWu5M",
        "outputId": "cf70d81a-9cea-493e-fb89-48c2bad0c505"
      },
      "source": [
        "X[[2,3,4]]"
      ],
      "execution_count": null,
      "outputs": [
        {
          "output_type": "execute_result",
          "data": {
            "text/plain": [
              "array([[4, 5, 3, 6, 9, 6],\n",
              "       [0, 3, 5, 3, 5, 3],\n",
              "       [0, 7, 2, 7, 1, 7]])"
            ]
          },
          "metadata": {},
          "execution_count": 159
        }
      ]
    },
    {
      "cell_type": "code",
      "metadata": {
        "id": "thG1sJgKpn-k",
        "colab": {
          "base_uri": "https://localhost:8080/"
        },
        "outputId": "48483776-888e-4777-d931-5d8fe2698d63"
      },
      "source": [
        "a,b = select_per_class(X, y)\n",
        "print (a)\n",
        "print (b)"
      ],
      "execution_count": null,
      "outputs": [
        {
          "output_type": "stream",
          "name": "stdout",
          "text": [
            "[[8 8 5 2 0 0]\n",
            " [4 4 8 1 3 7]\n",
            " [4 5 3 6 9 6]\n",
            " [0 3 5 3 5 3]\n",
            " [2 5 7 3 8 0]\n",
            " [7 2 5 9 8 7]]\n",
            "[[0 7 2 7 1 7]\n",
            " [5 7 7 1 8 5]\n",
            " [1 6 6 1 6 0]\n",
            " [0 7 6 5 3 4]]\n"
          ]
        }
      ]
    },
    {
      "cell_type": "code",
      "metadata": {
        "id": "Q_r-YLMJpn-k"
      },
      "source": [
        ""
      ],
      "execution_count": null,
      "outputs": []
    },
    {
      "cell_type": "markdown",
      "metadata": {
        "id": "qtTmiUGOpn-k"
      },
      "source": [
        "**submit your code**"
      ]
    },
    {
      "cell_type": "code",
      "metadata": {
        "scrolled": true,
        "id": "ZwacWywGpn-l",
        "colab": {
          "base_uri": "https://localhost:8080/",
          "height": 126
        },
        "outputId": "3a1b91a1-b626-4f56-a81f-8904525654c8"
      },
      "source": [
        "student.submit_task(globals(), task_id=\"task_03\");\n"
      ],
      "execution_count": null,
      "outputs": [
        {
          "output_type": "display_data",
          "data": {
            "text/html": [
              "\n",
              "                    <b>task_03 submitted.</b> <b><font color=\"blue\">your grade is 5</font></b> \n",
              "                    <p/><pre>----- grader message -------</pre>testing with 100 random calls<br/><b>correct</b><pre>----------------------------</pre>\n",
              "                    <p/><p/>\n",
              "                    <div style=\"font-size:10px\"><b>SUBMISSION CODE</b> f0NpJ9mIkgId1tHeDvL/xdIFIplr/TfbMKFgklQmh8RYZ3JwjkqzPMbWSNVuzP450cqNICap4p8M6b/7MKslwOPToSTVW9hXExwphP1ov3oC/xcjfOoRmuCiYSt9fDSS9HZ1dUvGZ7y4IcnPuqR1CQ==</div>\n",
              "                    "
            ],
            "text/plain": [
              "<IPython.core.display.HTML object>"
            ]
          },
          "metadata": {}
        }
      ]
    },
    {
      "cell_type": "code",
      "metadata": {
        "id": "dj145TuDpn-l"
      },
      "source": [
        ""
      ],
      "execution_count": null,
      "outputs": []
    },
    {
      "cell_type": "markdown",
      "metadata": {
        "id": "W2Fsf-hipn-l"
      },
      "source": [
        "## Task 4: Measure accuracy\n",
        "\n",
        "complete the following function such that:\n",
        "\n",
        "- it receives to binary vectors (composed of 0's and 1's) of the same length\n",
        "- returns the percentage of elements that are the same in both vectors\n",
        "\n",
        "recall that\n",
        "\n",
        "- if `a` and `b` are vectors of the same length a==b   returns a vector of booleans in which positions in True signal that elements in those position are the same\n",
        "- if `k` is a vector of booleans, `sum(k)` returns the number of `True` elements.\n",
        "\n",
        "\n",
        "for the following two vectors you should get 0.375\n",
        "\n",
        "    a = np.array([1,0,0,0,1,1,0,0])\n",
        "    b = np.array([1,1,1,1,0,1,0,1])\n",
        "    accuracy(a, b)\n",
        "    >>> 0.375\n"
      ]
    },
    {
      "cell_type": "code",
      "metadata": {
        "id": "b7RBlHdppn-l"
      },
      "source": [
        "def accuracy(y_true, y_pred):\n",
        "    result = sum((y_true- y_pred) == 0 )/len(y_true)\n",
        "    return result"
      ],
      "execution_count": null,
      "outputs": []
    },
    {
      "cell_type": "code",
      "metadata": {
        "colab": {
          "base_uri": "https://localhost:8080/"
        },
        "id": "GyqqhqUQYF01",
        "outputId": "1e914424-bd44-41f6-c2f2-5c569a19094e"
      },
      "source": [
        "a = np.array([1,0,0,0,1,1,0,0])\n",
        "b = np.array([1,1,1,1,0,1,0,1])\n",
        "c = (a-b) ==0\n",
        "c = sum(c)\n",
        "c/8"
      ],
      "execution_count": null,
      "outputs": [
        {
          "output_type": "execute_result",
          "data": {
            "text/plain": [
              "0.375"
            ]
          },
          "metadata": {},
          "execution_count": 177
        }
      ]
    },
    {
      "cell_type": "code",
      "metadata": {
        "id": "02OuXxpzpn-l",
        "colab": {
          "base_uri": "https://localhost:8080/"
        },
        "outputId": "4f5f1ffc-0194-4f5a-e11c-2a13208ed38a"
      },
      "source": [
        "a = np.array([0, 1, 0,1, 1, 1, 1, 1, 0, 1, 0, 1, 1, 0, 0, 0, 1, 1, 0,1, 0, 1, 0,])\n",
        "b = np.array([1, 0, 0, 1, 1, 0, 0, 0, 1, 0, 1, 1, 1, 1, 1, 0, 1, 0, 0, 1, 0, 0, 1])\n",
        "accuracy(a,b)"
      ],
      "execution_count": null,
      "outputs": [
        {
          "output_type": "execute_result",
          "data": {
            "text/plain": [
              "0.43478260869565216"
            ]
          },
          "metadata": {},
          "execution_count": 182
        }
      ]
    },
    {
      "cell_type": "code",
      "metadata": {
        "id": "UhRn27Kipn-l"
      },
      "source": [
        ""
      ],
      "execution_count": null,
      "outputs": []
    },
    {
      "cell_type": "code",
      "metadata": {
        "id": "fz8_8fEqpn-l"
      },
      "source": [
        ""
      ],
      "execution_count": null,
      "outputs": []
    },
    {
      "cell_type": "markdown",
      "metadata": {
        "id": "jW9f8OS2pn-l"
      },
      "source": [
        "**submit your code**"
      ]
    },
    {
      "cell_type": "code",
      "metadata": {
        "scrolled": false,
        "id": "vM1CL5DNpn-m",
        "colab": {
          "base_uri": "https://localhost:8080/",
          "height": 126
        },
        "outputId": "7d3c3c44-3984-4ca3-931d-441e344c71e6"
      },
      "source": [
        "student.submit_task(globals(), task_id=\"task_04\");\n"
      ],
      "execution_count": null,
      "outputs": [
        {
          "output_type": "display_data",
          "data": {
            "text/html": [
              "\n",
              "                    <b>task_04 submitted.</b> <b><font color=\"blue\">your grade is 5</font></b> \n",
              "                    <p/><pre>----- grader message -------</pre>testing with 100 random calls<br/><b>correct</b><pre>----------------------------</pre>\n",
              "                    <p/><p/>\n",
              "                    <div style=\"font-size:10px\"><b>SUBMISSION CODE</b> v2mgLlmkbsQxQ+1chkowAhxhCRuyNY6a7F9EYL6wj8aAdJUqY299l5p6trcbOi3ijdWNoOJTd0lEN4mF6u23XUZZ0U1AEjqRHWO1Oz7KfaD4nZG3erWHYOF8+PkfWnV0p0IO5r8WIDp7qXSEnuta7A==</div>\n",
              "                    "
            ],
            "text/plain": [
              "<IPython.core.display.HTML object>"
            ]
          },
          "metadata": {}
        }
      ]
    },
    {
      "cell_type": "code",
      "metadata": {
        "id": "YakvkJQLpn-m"
      },
      "source": [
        ""
      ],
      "execution_count": null,
      "outputs": []
    },
    {
      "cell_type": "markdown",
      "metadata": {
        "id": "Ht0ChQLNpn-m"
      },
      "source": [
        "## Task 5: Random split, fit and predict\n",
        "\n",
        "complete the following function so that:\n",
        "\n",
        "- fits the estimator with a random sample of size `train_pct` of the data `X` and binary labels `y`. You can use the `split_data` function developed previously\n",
        "- makes predictions on the test part of the data\n",
        "- measures accuracy of those predictions. you may use the function created previously\n",
        "- returns the estimator fitted, the test part of `X` and `y`, and the accuracy measured\n",
        "\n",
        "\n",
        "the execution below should return something with the following structure (the actual numbers will change)\n",
        "\n",
        "\n",
        "    (LogisticRegression(C=1.0, class_weight=None, dual=False, fit_intercept=True,\n",
        "                        intercept_scaling=1, l1_ratio=None, max_iter=100,\n",
        "                        multi_class='warn', n_jobs=None, penalty='l2',\n",
        "                        random_state=None, solver='lbfgs', tol=0.0001, verbose=0,\n",
        "                        warm_start=False), array([[-0.76329684,  0.2572069 ],\n",
        "            [ 1.02356829,  0.37629873],\n",
        "            [ 0.32099415,  0.82244488],\n",
        "            [ 1.08858315, -0.61299904],\n",
        "            [ 0.58470767,  0.58510559],\n",
        "            [ 1.60827644, -0.15477173],\n",
        "            [ 1.53121784,  0.78121504],\n",
        "            [-0.42734156,  0.87585237],\n",
        "            [-0.36368682,  0.72152586],\n",
        "            [ 1.05312619,  0.19835526]]), array([0, 0, 1, 1, 0, 1, 1, 0, 0, 0]), 0.6)"
      ]
    },
    {
      "cell_type": "code",
      "metadata": {
        "id": "0zeiJCvbpn-m"
      },
      "source": [
        "\n",
        "def split_fit_predict(estimator, X, y, train_pct):\n",
        "    \n",
        "    def split_data(X, y, pct):\n",
        "       \n",
        "    \n",
        "        assert len(X)==len(y), \"X and y must have the same length\"\n",
        "        assert pct>0 and pct<1, \"pct must be in the (0,1) iterval\"\n",
        "        \n",
        "        permutation = np.random.permutation(len(X)) \n",
        "        n1_elements = int(len(X)*pct)\n",
        "        permutation_partition_1 = permutation[:n1_elements]\n",
        "        permutation_partition_2 = permutation[n1_elements:]\n",
        "        X1 = X[permutation_partition_1]\n",
        "        X2 = X[permutation_partition_2]\n",
        "        y1 = y[permutation_partition_1] \n",
        "        y2 = y[permutation_partition_2] \n",
        "\n",
        "        return X1, X2, y1, y2\n",
        "    \n",
        "    def accuracy(y_true, y_pred):\n",
        "        result = sum((y_true- y_pred) == 0 )/len(y_true)\n",
        "        return result\n",
        "\n",
        "    Xtr, Xts, ytr, yts = split_data(X, y, train_pct)\n",
        "    \n",
        "    estimator.fit(Xtr,ytr)\n",
        "\n",
        "    preds_ts = estimator.predict(Xts)\n",
        "    return estimator, Xts, yts, accuracy(yts, preds_ts)\n",
        "        \n",
        "        "
      ],
      "execution_count": null,
      "outputs": []
    },
    {
      "cell_type": "code",
      "metadata": {
        "id": "KkyHusimpn-m",
        "colab": {
          "base_uri": "https://localhost:8080/"
        },
        "outputId": "bd77f991-3b86-4816-d8a2-1296e653c849"
      },
      "source": [
        "from sklearn.linear_model import LogisticRegression\n",
        "\n",
        "X, y = make_moons(100, noise=0.2)\n",
        "estimator = LogisticRegression(solver=\"lbfgs\")\n",
        "split_fit_predict(estimator, X, y, train_pct=0.9)\n"
      ],
      "execution_count": null,
      "outputs": [
        {
          "output_type": "execute_result",
          "data": {
            "text/plain": [
              "(LogisticRegression(C=1.0, class_weight=None, dual=False, fit_intercept=True,\n",
              "                    intercept_scaling=1, l1_ratio=None, max_iter=100,\n",
              "                    multi_class='auto', n_jobs=None, penalty='l2',\n",
              "                    random_state=None, solver='lbfgs', tol=0.0001, verbose=0,\n",
              "                    warm_start=False), array([[ 0.61730504, -0.32746701],\n",
              "        [ 1.2456255 , -0.58513844],\n",
              "        [ 1.11300409, -0.75402462],\n",
              "        [ 0.31058425, -0.18638747],\n",
              "        [-0.91577081,  0.57613169],\n",
              "        [-0.94381643,  0.58172519],\n",
              "        [ 0.38484983, -0.14899559],\n",
              "        [ 0.42841449,  0.57076938],\n",
              "        [ 2.09338593, -0.09729678],\n",
              "        [ 0.044438  ,  1.22095023]]), array([1, 1, 1, 1, 0, 0, 1, 0, 1, 0]), 1.0)"
            ]
          },
          "metadata": {},
          "execution_count": 186
        }
      ]
    },
    {
      "cell_type": "code",
      "metadata": {
        "id": "W9wJDgFApn-m"
      },
      "source": [
        ""
      ],
      "execution_count": null,
      "outputs": []
    },
    {
      "cell_type": "code",
      "metadata": {
        "id": "D1sWu5z0pn-m"
      },
      "source": [
        ""
      ],
      "execution_count": null,
      "outputs": []
    },
    {
      "cell_type": "markdown",
      "metadata": {
        "id": "QDL7E5Zepn-n"
      },
      "source": [
        "**submit your code**"
      ]
    },
    {
      "cell_type": "code",
      "metadata": {
        "scrolled": false,
        "id": "DARpVcY1pn-o",
        "colab": {
          "base_uri": "https://localhost:8080/",
          "height": 126
        },
        "outputId": "b6c684f6-d81d-407b-eee3-5f4aca2cdcf3"
      },
      "source": [
        "student.submit_task(globals(), task_id=\"task_05\");\n"
      ],
      "execution_count": null,
      "outputs": [
        {
          "output_type": "display_data",
          "data": {
            "text/html": [
              "\n",
              "                    <b>task_05 submitted.</b> <b><font color=\"blue\">your grade is 5</font></b> \n",
              "                    <p/><pre>----- grader message -------</pre>testing with 100 random calls<br/><b>correct</b><pre>----------------------------</pre>\n",
              "                    <p/><p/>\n",
              "                    <div style=\"font-size:10px\"><b>SUBMISSION CODE</b> 0UAJkoEQp1oq7FkySLT/DVYwxrl/LMWi6BeYTDMr0hUB0Z4xzxi98ccK+4cH7fTW2eeXMxYgO5qI6jBcD4ZMK0yNV2LWKBkJCQCCWKroctsXKVwS9ETGHv9knJWWqnAo3DzrSNE9qx31aTTyGMFy4g==</div>\n",
              "                    "
            ],
            "text/plain": [
              "<IPython.core.display.HTML object>"
            ]
          },
          "metadata": {}
        }
      ]
    },
    {
      "cell_type": "code",
      "metadata": {
        "id": "uI5Iwvz2pn-o"
      },
      "source": [
        ""
      ],
      "execution_count": null,
      "outputs": []
    }
  ]
}