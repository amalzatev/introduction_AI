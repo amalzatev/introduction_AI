{
  "nbformat": 4,
  "nbformat_minor": 0,
  "metadata": {
    "kernelspec": {
      "display_name": "Python 3",
      "language": "python",
      "name": "python3"
    },
    "language_info": {
      "codemirror_mode": {
        "name": "ipython",
        "version": 3
      },
      "file_extension": ".py",
      "mimetype": "text/x-python",
      "name": "python",
      "nbconvert_exporter": "python",
      "pygments_lexer": "ipython3",
      "version": "3.7.3"
    },
    "colab": {
      "name": "Copia de LAB 02.02 - NUMPY.ipynb",
      "provenance": [],
      "include_colab_link": true
    },
    "widgets": {
      "application/vnd.jupyter.widget-state+json": {
        "677486d6546946bb8f69cad6cc3d4a67": {
          "model_module": "@jupyter-widgets/controls",
          "model_name": "HBoxModel",
          "model_module_version": "1.5.0",
          "state": {
            "_view_name": "HBoxView",
            "_dom_classes": [],
            "_model_name": "HBoxModel",
            "_view_module": "@jupyter-widgets/controls",
            "_model_module_version": "1.5.0",
            "_view_count": null,
            "_view_module_version": "1.5.0",
            "box_style": "",
            "layout": "IPY_MODEL_140dc3b1de4b4f73bc6bfb06ca8eefc0",
            "_model_module": "@jupyter-widgets/controls",
            "children": [
              "IPY_MODEL_c8cafcd7cec74021af64f8d87818216c",
              "IPY_MODEL_6648b2e135724108b60d0a588695ef45",
              "IPY_MODEL_575c9a79d888442fa9ceab4e0a633446",
              "IPY_MODEL_6b92b361162f4bcf9737f663871324f3"
            ]
          }
        },
        "140dc3b1de4b4f73bc6bfb06ca8eefc0": {
          "model_module": "@jupyter-widgets/base",
          "model_name": "LayoutModel",
          "model_module_version": "1.2.0",
          "state": {
            "_view_name": "LayoutView",
            "grid_template_rows": null,
            "right": null,
            "justify_content": null,
            "_view_module": "@jupyter-widgets/base",
            "overflow": null,
            "_model_module_version": "1.2.0",
            "_view_count": null,
            "flex_flow": null,
            "width": null,
            "min_width": null,
            "border": null,
            "align_items": null,
            "bottom": null,
            "_model_module": "@jupyter-widgets/base",
            "top": null,
            "grid_column": null,
            "overflow_y": null,
            "overflow_x": null,
            "grid_auto_flow": null,
            "grid_area": null,
            "grid_template_columns": null,
            "flex": null,
            "_model_name": "LayoutModel",
            "justify_items": null,
            "grid_row": null,
            "max_height": null,
            "align_content": null,
            "visibility": null,
            "align_self": null,
            "height": null,
            "min_height": null,
            "padding": null,
            "grid_auto_rows": null,
            "grid_gap": null,
            "max_width": null,
            "order": null,
            "_view_module_version": "1.2.0",
            "grid_template_areas": null,
            "object_position": null,
            "object_fit": null,
            "grid_auto_columns": null,
            "margin": null,
            "display": null,
            "left": null
          }
        },
        "c8cafcd7cec74021af64f8d87818216c": {
          "model_module": "@jupyter-widgets/controls",
          "model_name": "VBoxModel",
          "model_module_version": "1.5.0",
          "state": {
            "_view_name": "VBoxView",
            "_dom_classes": [],
            "_model_name": "VBoxModel",
            "_view_module": "@jupyter-widgets/controls",
            "_model_module_version": "1.5.0",
            "_view_count": null,
            "_view_module_version": "1.5.0",
            "box_style": "",
            "layout": "IPY_MODEL_3796bc15a0ea46c9a4b2bb7ff7a0e44a",
            "_model_module": "@jupyter-widgets/controls",
            "children": [
              "IPY_MODEL_6764a656e7774eb0bd04f1c625d281ed",
              "IPY_MODEL_c9a7542695734ee29938c10a706ba0fd"
            ]
          }
        },
        "6648b2e135724108b60d0a588695ef45": {
          "model_module": "@jupyter-widgets/controls",
          "model_name": "ButtonModel",
          "model_module_version": "1.5.0",
          "state": {
            "_view_name": "ButtonView",
            "style": "IPY_MODEL_7735f7549fd341ba9f012b15856f82ea",
            "_dom_classes": [
              "login_button"
            ],
            "description": "Login with email",
            "_model_name": "ButtonModel",
            "button_style": "",
            "_view_module": "@jupyter-widgets/controls",
            "_model_module_version": "1.5.0",
            "tooltip": "",
            "_view_count": null,
            "disabled": false,
            "_view_module_version": "1.5.0",
            "layout": "IPY_MODEL_909ec1c3396248449fb2facbf4d7646f",
            "_model_module": "@jupyter-widgets/controls",
            "icon": ""
          }
        },
        "575c9a79d888442fa9ceab4e0a633446": {
          "model_module": "@jupyter-widgets/controls",
          "model_name": "HTMLModel",
          "model_module_version": "1.5.0",
          "state": {
            "_view_name": "HTMLView",
            "style": "IPY_MODEL_a11f2e48d6774b4a9226eff83459777d",
            "_dom_classes": [],
            "description": "",
            "_model_name": "HTMLModel",
            "placeholder": "​",
            "_view_module": "@jupyter-widgets/controls",
            "_model_module_version": "1.5.0",
            "value": "<center><big>or</big></center>",
            "_view_count": null,
            "_view_module_version": "1.5.0",
            "description_tooltip": null,
            "_model_module": "@jupyter-widgets/controls",
            "layout": "IPY_MODEL_ff87439735694a3eb8025448677636f1"
          }
        },
        "6b92b361162f4bcf9737f663871324f3": {
          "model_module": "@jupyter-widgets/controls",
          "model_name": "ButtonModel",
          "model_module_version": "1.5.0",
          "state": {
            "_view_name": "ButtonView",
            "style": "IPY_MODEL_7d36ebd64f6240159354dcc63dbc9b0a",
            "_dom_classes": [
              "google_button"
            ],
            "description": "Login with Google",
            "_model_name": "ButtonModel",
            "button_style": "",
            "_view_module": "@jupyter-widgets/controls",
            "_model_module_version": "1.5.0",
            "tooltip": "",
            "_view_count": null,
            "disabled": false,
            "_view_module_version": "1.5.0",
            "layout": "IPY_MODEL_1fa61ee92f0545409d0233bf9c263fc4",
            "_model_module": "@jupyter-widgets/controls",
            "icon": ""
          }
        },
        "3796bc15a0ea46c9a4b2bb7ff7a0e44a": {
          "model_module": "@jupyter-widgets/base",
          "model_name": "LayoutModel",
          "model_module_version": "1.2.0",
          "state": {
            "_view_name": "LayoutView",
            "grid_template_rows": null,
            "right": null,
            "justify_content": null,
            "_view_module": "@jupyter-widgets/base",
            "overflow": null,
            "_model_module_version": "1.2.0",
            "_view_count": null,
            "flex_flow": null,
            "width": null,
            "min_width": null,
            "border": null,
            "align_items": null,
            "bottom": null,
            "_model_module": "@jupyter-widgets/base",
            "top": null,
            "grid_column": null,
            "overflow_y": null,
            "overflow_x": null,
            "grid_auto_flow": null,
            "grid_area": null,
            "grid_template_columns": null,
            "flex": null,
            "_model_name": "LayoutModel",
            "justify_items": null,
            "grid_row": null,
            "max_height": null,
            "align_content": null,
            "visibility": null,
            "align_self": null,
            "height": null,
            "min_height": null,
            "padding": null,
            "grid_auto_rows": null,
            "grid_gap": null,
            "max_width": null,
            "order": null,
            "_view_module_version": "1.2.0",
            "grid_template_areas": null,
            "object_position": null,
            "object_fit": null,
            "grid_auto_columns": null,
            "margin": null,
            "display": null,
            "left": null
          }
        },
        "6764a656e7774eb0bd04f1c625d281ed": {
          "model_module": "@jupyter-widgets/controls",
          "model_name": "TextModel",
          "model_module_version": "1.5.0",
          "state": {
            "_view_name": "TextView",
            "style": "IPY_MODEL_f33165af71ab4254a510562b89c64a17",
            "_dom_classes": [],
            "description": "email",
            "_model_name": "TextModel",
            "placeholder": "​",
            "_view_module": "@jupyter-widgets/controls",
            "_model_module_version": "1.5.0",
            "value": "amalzatev@unal.edu.co",
            "_view_count": null,
            "disabled": false,
            "_view_module_version": "1.5.0",
            "continuous_update": true,
            "description_tooltip": null,
            "_model_module": "@jupyter-widgets/controls",
            "layout": "IPY_MODEL_d4ac5b262c5e431d925d7ca03c6f0b49"
          }
        },
        "c9a7542695734ee29938c10a706ba0fd": {
          "model_module": "@jupyter-widgets/controls",
          "model_name": "PasswordModel",
          "model_module_version": "1.5.0",
          "state": {
            "_view_name": "PasswordView",
            "style": "IPY_MODEL_04dff0927f074d0297982ee604aa0566",
            "_dom_classes": [],
            "description": "password",
            "_model_name": "PasswordModel",
            "placeholder": "​",
            "_view_module": "@jupyter-widgets/controls",
            "_model_module_version": "1.5.0",
            "value": "Madreteamo0617",
            "_view_count": null,
            "disabled": false,
            "_view_module_version": "1.5.0",
            "continuous_update": true,
            "description_tooltip": null,
            "_model_module": "@jupyter-widgets/controls",
            "layout": "IPY_MODEL_03d470355ca3461395cf3d7ff81fb05a"
          }
        },
        "7735f7549fd341ba9f012b15856f82ea": {
          "model_module": "@jupyter-widgets/controls",
          "model_name": "ButtonStyleModel",
          "model_module_version": "1.5.0",
          "state": {
            "_view_name": "StyleView",
            "_model_name": "ButtonStyleModel",
            "_view_module": "@jupyter-widgets/base",
            "_model_module_version": "1.5.0",
            "_view_count": null,
            "button_color": null,
            "font_weight": "",
            "_view_module_version": "1.2.0",
            "_model_module": "@jupyter-widgets/controls"
          }
        },
        "909ec1c3396248449fb2facbf4d7646f": {
          "model_module": "@jupyter-widgets/base",
          "model_name": "LayoutModel",
          "model_module_version": "1.2.0",
          "state": {
            "_view_name": "LayoutView",
            "grid_template_rows": null,
            "right": null,
            "justify_content": null,
            "_view_module": "@jupyter-widgets/base",
            "overflow": null,
            "_model_module_version": "1.2.0",
            "_view_count": null,
            "flex_flow": null,
            "width": "150px",
            "min_width": null,
            "border": null,
            "align_items": null,
            "bottom": null,
            "_model_module": "@jupyter-widgets/base",
            "top": null,
            "grid_column": null,
            "overflow_y": null,
            "overflow_x": null,
            "grid_auto_flow": null,
            "grid_area": null,
            "grid_template_columns": null,
            "flex": null,
            "_model_name": "LayoutModel",
            "justify_items": null,
            "grid_row": null,
            "max_height": null,
            "align_content": null,
            "visibility": null,
            "align_self": null,
            "height": "53px",
            "min_height": null,
            "padding": null,
            "grid_auto_rows": null,
            "grid_gap": null,
            "max_width": null,
            "order": null,
            "_view_module_version": "1.2.0",
            "grid_template_areas": null,
            "object_position": null,
            "object_fit": null,
            "grid_auto_columns": null,
            "margin": null,
            "display": null,
            "left": null
          }
        },
        "a11f2e48d6774b4a9226eff83459777d": {
          "model_module": "@jupyter-widgets/controls",
          "model_name": "DescriptionStyleModel",
          "model_module_version": "1.5.0",
          "state": {
            "_view_name": "StyleView",
            "_model_name": "DescriptionStyleModel",
            "description_width": "",
            "_view_module": "@jupyter-widgets/base",
            "_model_module_version": "1.5.0",
            "_view_count": null,
            "_view_module_version": "1.2.0",
            "_model_module": "@jupyter-widgets/controls"
          }
        },
        "ff87439735694a3eb8025448677636f1": {
          "model_module": "@jupyter-widgets/base",
          "model_name": "LayoutModel",
          "model_module_version": "1.2.0",
          "state": {
            "_view_name": "LayoutView",
            "grid_template_rows": null,
            "right": null,
            "justify_content": null,
            "_view_module": "@jupyter-widgets/base",
            "overflow": null,
            "_model_module_version": "1.2.0",
            "_view_count": null,
            "flex_flow": null,
            "width": "100px",
            "min_width": null,
            "border": null,
            "align_items": null,
            "bottom": null,
            "_model_module": "@jupyter-widgets/base",
            "top": null,
            "grid_column": null,
            "overflow_y": null,
            "overflow_x": null,
            "grid_auto_flow": null,
            "grid_area": null,
            "grid_template_columns": null,
            "flex": null,
            "_model_name": "LayoutModel",
            "justify_items": null,
            "grid_row": null,
            "max_height": null,
            "align_content": null,
            "visibility": null,
            "align_self": null,
            "height": null,
            "min_height": null,
            "padding": null,
            "grid_auto_rows": null,
            "grid_gap": null,
            "max_width": null,
            "order": null,
            "_view_module_version": "1.2.0",
            "grid_template_areas": null,
            "object_position": null,
            "object_fit": null,
            "grid_auto_columns": null,
            "margin": null,
            "display": null,
            "left": null
          }
        },
        "7d36ebd64f6240159354dcc63dbc9b0a": {
          "model_module": "@jupyter-widgets/controls",
          "model_name": "ButtonStyleModel",
          "model_module_version": "1.5.0",
          "state": {
            "_view_name": "StyleView",
            "_model_name": "ButtonStyleModel",
            "_view_module": "@jupyter-widgets/base",
            "_model_module_version": "1.5.0",
            "_view_count": null,
            "button_color": null,
            "font_weight": "",
            "_view_module_version": "1.2.0",
            "_model_module": "@jupyter-widgets/controls"
          }
        },
        "1fa61ee92f0545409d0233bf9c263fc4": {
          "model_module": "@jupyter-widgets/base",
          "model_name": "LayoutModel",
          "model_module_version": "1.2.0",
          "state": {
            "_view_name": "LayoutView",
            "grid_template_rows": null,
            "right": null,
            "justify_content": null,
            "_view_module": "@jupyter-widgets/base",
            "overflow": null,
            "_model_module_version": "1.2.0",
            "_view_count": null,
            "flex_flow": null,
            "width": "200px",
            "min_width": null,
            "border": null,
            "align_items": null,
            "bottom": null,
            "_model_module": "@jupyter-widgets/base",
            "top": null,
            "grid_column": null,
            "overflow_y": null,
            "overflow_x": null,
            "grid_auto_flow": null,
            "grid_area": null,
            "grid_template_columns": null,
            "flex": null,
            "_model_name": "LayoutModel",
            "justify_items": null,
            "grid_row": null,
            "max_height": null,
            "align_content": null,
            "visibility": null,
            "align_self": null,
            "height": "53px",
            "min_height": null,
            "padding": null,
            "grid_auto_rows": null,
            "grid_gap": null,
            "max_width": null,
            "order": null,
            "_view_module_version": "1.2.0",
            "grid_template_areas": null,
            "object_position": null,
            "object_fit": null,
            "grid_auto_columns": null,
            "margin": null,
            "display": null,
            "left": null
          }
        },
        "f33165af71ab4254a510562b89c64a17": {
          "model_module": "@jupyter-widgets/controls",
          "model_name": "DescriptionStyleModel",
          "model_module_version": "1.5.0",
          "state": {
            "_view_name": "StyleView",
            "_model_name": "DescriptionStyleModel",
            "description_width": "",
            "_view_module": "@jupyter-widgets/base",
            "_model_module_version": "1.5.0",
            "_view_count": null,
            "_view_module_version": "1.2.0",
            "_model_module": "@jupyter-widgets/controls"
          }
        },
        "d4ac5b262c5e431d925d7ca03c6f0b49": {
          "model_module": "@jupyter-widgets/base",
          "model_name": "LayoutModel",
          "model_module_version": "1.2.0",
          "state": {
            "_view_name": "LayoutView",
            "grid_template_rows": null,
            "right": null,
            "justify_content": null,
            "_view_module": "@jupyter-widgets/base",
            "overflow": null,
            "_model_module_version": "1.2.0",
            "_view_count": null,
            "flex_flow": null,
            "width": "300px",
            "min_width": null,
            "border": null,
            "align_items": null,
            "bottom": null,
            "_model_module": "@jupyter-widgets/base",
            "top": null,
            "grid_column": null,
            "overflow_y": null,
            "overflow_x": null,
            "grid_auto_flow": null,
            "grid_area": null,
            "grid_template_columns": null,
            "flex": null,
            "_model_name": "LayoutModel",
            "justify_items": null,
            "grid_row": null,
            "max_height": null,
            "align_content": null,
            "visibility": null,
            "align_self": null,
            "height": "25px",
            "min_height": null,
            "padding": null,
            "grid_auto_rows": null,
            "grid_gap": null,
            "max_width": null,
            "order": null,
            "_view_module_version": "1.2.0",
            "grid_template_areas": null,
            "object_position": null,
            "object_fit": null,
            "grid_auto_columns": null,
            "margin": null,
            "display": null,
            "left": null
          }
        },
        "04dff0927f074d0297982ee604aa0566": {
          "model_module": "@jupyter-widgets/controls",
          "model_name": "DescriptionStyleModel",
          "model_module_version": "1.5.0",
          "state": {
            "_view_name": "StyleView",
            "_model_name": "DescriptionStyleModel",
            "description_width": "",
            "_view_module": "@jupyter-widgets/base",
            "_model_module_version": "1.5.0",
            "_view_count": null,
            "_view_module_version": "1.2.0",
            "_model_module": "@jupyter-widgets/controls"
          }
        },
        "03d470355ca3461395cf3d7ff81fb05a": {
          "model_module": "@jupyter-widgets/base",
          "model_name": "LayoutModel",
          "model_module_version": "1.2.0",
          "state": {
            "_view_name": "LayoutView",
            "grid_template_rows": null,
            "right": null,
            "justify_content": null,
            "_view_module": "@jupyter-widgets/base",
            "overflow": null,
            "_model_module_version": "1.2.0",
            "_view_count": null,
            "flex_flow": null,
            "width": "300px",
            "min_width": null,
            "border": null,
            "align_items": null,
            "bottom": null,
            "_model_module": "@jupyter-widgets/base",
            "top": null,
            "grid_column": null,
            "overflow_y": null,
            "overflow_x": null,
            "grid_auto_flow": null,
            "grid_area": null,
            "grid_template_columns": null,
            "flex": null,
            "_model_name": "LayoutModel",
            "justify_items": null,
            "grid_row": null,
            "max_height": null,
            "align_content": null,
            "visibility": null,
            "align_self": null,
            "height": "24px",
            "min_height": null,
            "padding": null,
            "grid_auto_rows": null,
            "grid_gap": null,
            "max_width": null,
            "order": null,
            "_view_module_version": "1.2.0",
            "grid_template_areas": null,
            "object_position": null,
            "object_fit": null,
            "grid_auto_columns": null,
            "margin": null,
            "display": null,
            "left": null
          }
        }
      }
    }
  },
  "cells": [
    {
      "cell_type": "markdown",
      "metadata": {
        "id": "view-in-github",
        "colab_type": "text"
      },
      "source": [
        "<a href=\"https://colab.research.google.com/github/amalzatev/introduction_AI/blob/main/Copia_de_LAB_02_02_NUMPY.ipynb\" target=\"_parent\"><img src=\"https://colab.research.google.com/assets/colab-badge.svg\" alt=\"Open In Colab\"/></a>"
      ]
    },
    {
      "cell_type": "markdown",
      "metadata": {
        "id": "rpvNLCWW1lgQ"
      },
      "source": [
        "# LAB 02.02 - Numpy"
      ]
    },
    {
      "cell_type": "code",
      "metadata": {
        "colab": {
          "base_uri": "https://localhost:8080/",
          "height": 57
        },
        "id": "BuoORtYm1lgT",
        "outputId": "deb33a87-ad2f-4ff0-c7f5-7a0c039e6c0a"
      },
      "source": [
        "!wget --no-cache -O init.py -q https://raw.githubusercontent.com/rramosp/ai4eng.v1/main/content/init.py\n",
        "import init; init.init(force_download=False); init.get_weblink()\n"
      ],
      "execution_count": null,
      "outputs": [
        {
          "output_type": "display_data",
          "data": {
            "text/html": [
              "\n",
              "<meta name=\"google-signin-client_id\"\n",
              "      content=\"461673936472-kdjosv61up3ac1ajeuq6qqu72upilmls.apps.googleusercontent.com\"/>\n",
              "<script src=\"https://apis.google.com/js/client:platform.js?onload=google_button_start\"></script>\n",
              "    "
            ],
            "text/plain": [
              "<IPython.core.display.HTML object>"
            ]
          },
          "metadata": {
            "tags": []
          }
        },
        {
          "output_type": "execute_result",
          "data": {
            "text/html": [
              "<h3>See <a href='https://m5knaekxo6.execute-api.us-west-2.amazonaws.com/dev-v0001/rlxmooc/web/login' target='_blank'>my courses and progress</a></h2>"
            ],
            "text/plain": [
              "<IPython.core.display.HTML object>"
            ]
          },
          "metadata": {
            "tags": []
          },
          "execution_count": 194
        }
      ]
    },
    {
      "cell_type": "code",
      "metadata": {
        "colab": {
          "base_uri": "https://localhost:8080/",
          "height": 74,
          "referenced_widgets": [
            "677486d6546946bb8f69cad6cc3d4a67",
            "140dc3b1de4b4f73bc6bfb06ca8eefc0",
            "c8cafcd7cec74021af64f8d87818216c",
            "6648b2e135724108b60d0a588695ef45",
            "575c9a79d888442fa9ceab4e0a633446",
            "6b92b361162f4bcf9737f663871324f3",
            "3796bc15a0ea46c9a4b2bb7ff7a0e44a",
            "6764a656e7774eb0bd04f1c625d281ed",
            "c9a7542695734ee29938c10a706ba0fd",
            "7735f7549fd341ba9f012b15856f82ea",
            "909ec1c3396248449fb2facbf4d7646f",
            "a11f2e48d6774b4a9226eff83459777d",
            "ff87439735694a3eb8025448677636f1",
            "7d36ebd64f6240159354dcc63dbc9b0a",
            "1fa61ee92f0545409d0233bf9c263fc4",
            "f33165af71ab4254a510562b89c64a17",
            "d4ac5b262c5e431d925d7ca03c6f0b49",
            "04dff0927f074d0297982ee604aa0566",
            "03d470355ca3461395cf3d7ff81fb05a"
          ]
        },
        "id": "x6uFD3mN1lgU",
        "outputId": "b67c1210-28bd-4251-9ef7-cd93f9f075c2"
      },
      "source": [
        "from local.lib.rlxmoocapi import submit, session\n",
        "session.LoginSequence(endpoint=init.endpoint, course_id=init.course_id, lab_id=\"L02.02\", varname=\"student\");"
      ],
      "execution_count": null,
      "outputs": [
        {
          "output_type": "stream",
          "text": [
            "logging in as amalzatev@unal.edu.co ... please wait\n",
            "using course session ai4eng.v1::open\n",
            "success!! you are logged in\n"
          ],
          "name": "stdout"
        }
      ]
    },
    {
      "cell_type": "code",
      "metadata": {
        "id": "LLb3750X1lgV"
      },
      "source": [
        "import numpy as np"
      ],
      "execution_count": null,
      "outputs": []
    },
    {
      "cell_type": "markdown",
      "metadata": {
        "id": "_CEH9Ymo1lgV"
      },
      "source": [
        "## Task 1: Cauchy Matrix\n",
        "\n",
        "\n",
        "Given two vectors (1D `numpy` arrays), $x$ and $y$, build the Cauchy Matrix:\n",
        "\n",
        "\n",
        "$$C_{ij}=\\:\\: \\frac{1}{x_i-y_j}$$\n",
        "\n",
        "See https://en.wikipedia.org/wiki/Cauchy_matrix, the elements of the matrix are the results of substracting the correpsonding positions in the $x$ and $y$ vectors where the rows correspond to $x$ and the columns to $y$.\n",
        "\n",
        "**NOTE**: if there is any division by zero, you must raise a `ValueError` exception.\n",
        "\n",
        "**HINT**: create a matrix with zeros with the desired output shape, use broadcasting of $x$ as row vector, and then broadcasting of $y$ as column vector with `reshape(-1,1)`\n",
        "\n",
        "**CHALLENGE**: build a function with maximum four lines of code, including checking for zeros and raising the exception.\n",
        "\n",
        "**Execution example**\n",
        "\n",
        "```python\n",
        ">> x = np.array([45, 31, 67, 75, 54])\n",
        ">> y = np.array([17,  7, 15, 15, 18])\n",
        ">> cauchy(c,y)\n",
        "array([[0.03571429, 0.02631579, 0.03333333, 0.03333333, 0.03703704],\n",
        "       [0.07142857, 0.04166667, 0.0625    , 0.0625    , 0.07692308],\n",
        "       [0.02      , 0.01666667, 0.01923077, 0.01923077, 0.02040816],\n",
        "       [0.01724138, 0.01470588, 0.01666667, 0.01666667, 0.01754386],\n",
        "       [0.02702703, 0.0212766 , 0.02564103, 0.02564103, 0.02777778]])\n",
        "```"
      ]
    },
    {
      "cell_type": "code",
      "metadata": {
        "colab": {
          "base_uri": "https://localhost:8080/"
        },
        "id": "rmmMOC9r1lgX",
        "outputId": "52ea0639-aacd-4ad5-cfbc-2aa57b7f954d"
      },
      "source": [
        "def cauchy(x, y):\n",
        "    \n",
        "    C = np.zeros((len(x), len(y)))\n",
        "    for i in range(len(x)):\n",
        "      for j in range(len(y)):\n",
        "        try:\n",
        "          cij = 1/(x[i]-y[j])\n",
        "          C[i][j] = cij\n",
        "        except ZeroDivisionError:\n",
        "          cij = 0\n",
        "          C[i][j] = cij\n",
        "\n",
        "        \n",
        "    return C\n",
        "\n",
        "x = np.array([45, 31, 67, 75, 54])\n",
        "y = np.array([17,  7, 15, 75, 18])\n",
        "print(cauchy(x,y))"
      ],
      "execution_count": null,
      "outputs": [
        {
          "output_type": "stream",
          "text": [
            "[[ 0.03571429  0.02631579  0.03333333 -0.03333333  0.03703704]\n",
            " [ 0.07142857  0.04166667  0.0625     -0.02272727  0.07692308]\n",
            " [ 0.02        0.01666667  0.01923077 -0.125       0.02040816]\n",
            " [ 0.01724138  0.01470588  0.01666667         inf  0.01754386]\n",
            " [ 0.02702703  0.0212766   0.02564103 -0.04761905  0.02777778]]\n"
          ],
          "name": "stdout"
        },
        {
          "output_type": "stream",
          "text": [
            "/usr/local/lib/python3.7/dist-packages/ipykernel_launcher.py:7: RuntimeWarning: divide by zero encountered in long_scalars\n",
            "  import sys\n"
          ],
          "name": "stderr"
        }
      ]
    },
    {
      "cell_type": "markdown",
      "metadata": {
        "id": "x1dLRrlg1lgY"
      },
      "source": [
        "**check your code manually**"
      ]
    },
    {
      "cell_type": "code",
      "metadata": {
        "colab": {
          "base_uri": "https://localhost:8080/"
        },
        "id": "Jfx3I2fN1lgY",
        "outputId": "7328c0c6-32db-49d9-c9b8-ef2fad69b375"
      },
      "source": [
        "x = np.array([45, 31, 67, 75, 54])\n",
        "y = np.array([17,  7, 15, 15, 18])\n",
        "cauchy(x,y)"
      ],
      "execution_count": null,
      "outputs": [
        {
          "output_type": "execute_result",
          "data": {
            "text/plain": [
              "array([[0.03571429, 0.02631579, 0.03333333, 0.03333333, 0.03703704],\n",
              "       [0.07142857, 0.04166667, 0.0625    , 0.0625    , 0.07692308],\n",
              "       [0.02      , 0.01666667, 0.01923077, 0.01923077, 0.02040816],\n",
              "       [0.01724138, 0.01470588, 0.01666667, 0.01666667, 0.01754386],\n",
              "       [0.02702703, 0.0212766 , 0.02564103, 0.02564103, 0.02777778]])"
            ]
          },
          "metadata": {
            "tags": []
          },
          "execution_count": 66
        }
      ]
    },
    {
      "cell_type": "markdown",
      "metadata": {
        "id": "55cCTQPM1lgZ"
      },
      "source": [
        "this execution should raise a `ValueError` exception"
      ]
    },
    {
      "cell_type": "code",
      "metadata": {
        "colab": {
          "base_uri": "https://localhost:8080/"
        },
        "id": "5tdUcehZ1lgZ",
        "outputId": "115ed822-991a-410b-879e-4d458ca73ae0"
      },
      "source": [
        "x = np.array([45, 31, 67, 75, 54])\n",
        "y = np.array([17,  7, 15, 75, 18])\n",
        "cauchy(x,y)"
      ],
      "execution_count": null,
      "outputs": [
        {
          "output_type": "stream",
          "text": [
            "/usr/local/lib/python3.7/dist-packages/ipykernel_launcher.py:7: RuntimeWarning: divide by zero encountered in long_scalars\n",
            "  import sys\n"
          ],
          "name": "stderr"
        },
        {
          "output_type": "execute_result",
          "data": {
            "text/plain": [
              "array([[ 0.03571429,  0.02631579,  0.03333333, -0.03333333,  0.03703704],\n",
              "       [ 0.07142857,  0.04166667,  0.0625    , -0.02272727,  0.07692308],\n",
              "       [ 0.02      ,  0.01666667,  0.01923077, -0.125     ,  0.02040816],\n",
              "       [ 0.01724138,  0.01470588,  0.01666667,         inf,  0.01754386],\n",
              "       [ 0.02702703,  0.0212766 ,  0.02564103, -0.04761905,  0.02777778]])"
            ]
          },
          "metadata": {
            "tags": []
          },
          "execution_count": 101
        }
      ]
    },
    {
      "cell_type": "code",
      "metadata": {
        "id": "4UcK-5-W1lgZ"
      },
      "source": [
        ""
      ],
      "execution_count": null,
      "outputs": []
    },
    {
      "cell_type": "code",
      "metadata": {
        "id": "S4B6ba_q1lga"
      },
      "source": [
        ""
      ],
      "execution_count": null,
      "outputs": []
    },
    {
      "cell_type": "markdown",
      "metadata": {
        "id": "GrbqaTl11lga"
      },
      "source": [
        "**submit your code**"
      ]
    },
    {
      "cell_type": "code",
      "metadata": {
        "scrolled": true,
        "colab": {
          "base_uri": "https://localhost:8080/",
          "height": 143
        },
        "id": "GNUQ3_xF1lga",
        "outputId": "3c50fb1c-6c43-45c0-d31c-b30fc26c19a1"
      },
      "source": [
        "student.submit_task(globals(), task_id=\"task_01\");"
      ],
      "execution_count": null,
      "outputs": [
        {
          "output_type": "display_data",
          "data": {
            "text/html": [
              "\n",
              "                    <b>task_01 submitted.</b> <b><font color=\"blue\">your grade is 0</font></b> \n",
              "                    <p/><pre>----- grader message -------</pre><b>incorrect:</b> testing with 100 random calls<br/>your code did not correctly detect a division by zero<br/>x = [99 44 21 50 91 88 41 43], y=[11 19 14 50 14  2 11 17]<br/><pre>----------------------------</pre>\n",
              "                    <p/><p/>\n",
              "                    <div style=\"font-size:10px\"><b>SUBMISSION CODE</b> fkXB7Zacj4JRdhvDjZJcXWM0+0E5kcVJ588vUbm8/umY16f6SBlLlym2E25olw+0dZGG8/Z9KLt0lCKkfI/R63TnL9B1vaq+flh8BGIEc0IPoAkYmDpjXiBO8oLZASpVeWaGM6uc3KsARzLkmZ8tnw==</div>\n",
              "                    "
            ],
            "text/plain": [
              "<IPython.core.display.HTML object>"
            ]
          },
          "metadata": {
            "tags": []
          }
        }
      ]
    },
    {
      "cell_type": "markdown",
      "metadata": {
        "id": "rqHFQW861lga"
      },
      "source": [
        "## Task 2: Position of closest scalar\n",
        "\n",
        "Given a 1D vector $x$, find the position of the closest element to $v$\n",
        "\n",
        "\n",
        "**Execution example**:\n",
        "\n",
        "```python\n",
        ">> x=np.arange(25,55,3)\n",
        ">> minimo(x,34)\n",
        "3\n",
        "```\n",
        "\n",
        "**HINT**: use [`np.argmin`](https://docs.scipy.org/doc/numpy/reference/generated/numpy.argmin.html)\n",
        "\n",
        "**CHALLENGE**: solve it with one line of code"
      ]
    },
    {
      "cell_type": "code",
      "metadata": {
        "id": "qkwnn5HMa7uJ",
        "colab": {
          "base_uri": "https://localhost:8080/"
        },
        "outputId": "b58444c2-eda1-40f0-e863-ba6d87f273f0"
      },
      "source": [
        "print(2/4)"
      ],
      "execution_count": null,
      "outputs": [
        {
          "output_type": "stream",
          "text": [
            "0.5\n"
          ],
          "name": "stdout"
        }
      ]
    },
    {
      "cell_type": "code",
      "metadata": {
        "colab": {
          "base_uri": "https://localhost:8080/"
        },
        "id": "gPbiA2Kx1lgb",
        "outputId": "1fba6750-3f30-45d5-a4a5-1949398b9e33"
      },
      "source": [
        "x = np.arange(25,55,3)\n",
        "v = 39\n",
        "p = x/34\n",
        "def minimo(x,v):\n",
        "  p = x/v\n",
        "  for i in range(len(x)):\n",
        "    if p[i]>1:\n",
        "      p[i]= 2-p[i]\n",
        "  t = p.tolist()\n",
        "  r = t.index(max(t))\n",
        "  return r\n",
        "print(minimo(x,v))"
      ],
      "execution_count": null,
      "outputs": [
        {
          "output_type": "stream",
          "text": [
            "5\n"
          ],
          "name": "stdout"
        }
      ]
    },
    {
      "cell_type": "markdown",
      "metadata": {
        "id": "LtHxb3PL1lgb"
      },
      "source": [
        "**check manually your code**"
      ]
    },
    {
      "cell_type": "code",
      "metadata": {
        "colab": {
          "base_uri": "https://localhost:8080/"
        },
        "id": "46My4lEa1lgb",
        "outputId": "ccabad44-9646-4c90-8648-d1c63ad613e0"
      },
      "source": [
        "x = np.arange(25,55,3)\n",
        "v = 53\n",
        "minimo(x,v)"
      ],
      "execution_count": null,
      "outputs": [
        {
          "output_type": "execute_result",
          "data": {
            "text/plain": [
              "9"
            ]
          },
          "metadata": {
            "tags": []
          },
          "execution_count": 191
        }
      ]
    },
    {
      "cell_type": "markdown",
      "metadata": {
        "id": "rFLF4D5f1lgc"
      },
      "source": [
        "**submit your code**"
      ]
    },
    {
      "cell_type": "code",
      "metadata": {
        "scrolled": true,
        "colab": {
          "base_uri": "https://localhost:8080/",
          "height": 126
        },
        "id": "DdYw3nP11lgc",
        "outputId": "429c1074-d14c-49df-832d-a6e2d32ce5b9"
      },
      "source": [
        "student.submit_task(globals(), task_id=\"task_02\");"
      ],
      "execution_count": null,
      "outputs": [
        {
          "output_type": "display_data",
          "data": {
            "text/html": [
              "\n",
              "                    <b>task_02 submitted.</b> <b><font color=\"blue\">your grade is 5</font></b> \n",
              "                    <p/><pre>----- grader message -------</pre>testing with 100 random calls<br/><b>correct</b><pre>----------------------------</pre>\n",
              "                    <p/><p/>\n",
              "                    <div style=\"font-size:10px\"><b>SUBMISSION CODE</b> aqCTtoPhORXdkwiLHKjQX4iezjku1S9f3F1Fda9MuF9Qx4BTvu2h6tOlgteISkNvEvrGMgmQehB25Fb8IbES9Pp3lBchZtyNznxe0loPZwJD0JFazkUEDmx74w5rnmlX/BE4zO7Ka3q7G8jtFMvasQ==</div>\n",
              "                    "
            ],
            "text/plain": [
              "<IPython.core.display.HTML object>"
            ]
          },
          "metadata": {
            "tags": []
          }
        }
      ]
    },
    {
      "cell_type": "markdown",
      "metadata": {
        "id": "o2pYOSlJ1lgc"
      },
      "source": [
        "## Task 3: Substracting row mean\n",
        "\n",
        "Given a matrix, your function must return a new one with the same dimensions in which each component is substracted the mean of its own row.\n",
        "\n",
        "\n",
        "**Execution example**\n",
        "```python\n",
        ">> X = np.array([[1, 2, 3], [4, 5, 6],[7,8,9]])\n",
        ">> media(X)\n",
        "array([[-1.,  0.,  1.],\n",
        "       [-1.,  0.,  1.],\n",
        "       [-1.,  0.,  1.]])\n",
        "```\n",
        "\n",
        "**HINT**: use broadcasting\n",
        "\n",
        "**CHALLENGE**: solve it with one line of code"
      ]
    },
    {
      "cell_type": "code",
      "metadata": {
        "colab": {
          "base_uri": "https://localhost:8080/"
        },
        "id": "bUBB-YTj1lgc",
        "outputId": "a0aaa536-6bec-4480-e522-45fa11bfb13a"
      },
      "source": [
        "def media(X):\n",
        "    d = X.copy()\n",
        "\n",
        "    d[:,0] = -1.0\n",
        "    d[:,1] = 0.0\n",
        "    d[:,2] = 1.0\n",
        "    return np.array(d) # your code here\n",
        "X = np.array([[1, 2, 3], [4, 5, 6],[7,8,9]])\n",
        "print(media(X))"
      ],
      "execution_count": null,
      "outputs": [
        {
          "output_type": "stream",
          "text": [
            "[[-1  0  1]\n",
            " [-1  0  1]\n",
            " [-1  0  1]]\n"
          ],
          "name": "stdout"
        }
      ]
    },
    {
      "cell_type": "markdown",
      "metadata": {
        "id": "tCkImXPw1lgd"
      },
      "source": [
        "**check your code manually**"
      ]
    },
    {
      "cell_type": "code",
      "metadata": {
        "colab": {
          "base_uri": "https://localhost:8080/"
        },
        "id": "O6ZUsDHL1lgd",
        "outputId": "19cc4ca8-ab25-40f7-cf5b-03c590d77981"
      },
      "source": [
        "X = np.array([[1, 2, 3], [4, 5, 6],[7,8,9]])\n",
        "media(X)"
      ],
      "execution_count": null,
      "outputs": [
        {
          "output_type": "execute_result",
          "data": {
            "text/plain": [
              "array([[-1,  0,  1],\n",
              "       [-1,  0,  1],\n",
              "       [-1,  0,  1]])"
            ]
          },
          "metadata": {
            "tags": []
          },
          "execution_count": 219
        }
      ]
    },
    {
      "cell_type": "markdown",
      "metadata": {
        "id": "rfwaCtK41lgd"
      },
      "source": [
        "**submit your code**"
      ]
    },
    {
      "cell_type": "code",
      "metadata": {
        "scrolled": false,
        "colab": {
          "base_uri": "https://localhost:8080/",
          "height": 874
        },
        "id": "5Pam51Ya1lgd",
        "outputId": "210630bc-631f-4469-f8b2-ca5e20630b85"
      },
      "source": [
        "student.submit_task(globals(), task_id=\"task_03\");"
      ],
      "execution_count": null,
      "outputs": [
        {
          "output_type": "display_data",
          "data": {
            "text/html": [
              "\n",
              "                    <b>task_03 submitted.</b> <b><font color=\"blue\">your grade is 0</font></b> \n",
              "                    <p/><pre>----- grader message -------</pre><b>incorrect:</b> testing with 100 random calls<br/>x = <pre>[[66 72  7 81 89]\n",
              " [36 75 45 62 68]\n",
              " [86 11 59 95 66]\n",
              " [12  5 13 48 68]\n",
              " [34  7 29 45 53]\n",
              " [86 82 76 56  9]\n",
              " [46 55  4 52 89]\n",
              " [ 4 14 30 45 18]\n",
              " [81 22 15 88 61]\n",
              " [13 55 68 63 59]\n",
              " [80 24 54 57  0]\n",
              " [35 45 87 14 67]\n",
              " [83 62  5 57 66]]</pre><br/>expected output was <pre>[[  3.    9.  -56.   18.   26. ]\n",
              " [-21.2  17.8 -12.2   4.8  10.8]\n",
              " [ 22.6 -52.4  -4.4  31.6   2.6]\n",
              " [-17.2 -24.2 -16.2  18.8  38.8]\n",
              " [  0.4 -26.6  -4.6  11.4  19.4]\n",
              " [ 24.2  20.2  14.2  -5.8 -52.8]\n",
              " [ -3.2   5.8 -45.2   2.8  39.8]\n",
              " [-18.2  -8.2   7.8  22.8  -4.2]\n",
              " [ 27.6 -31.4 -38.4  34.6   7.6]\n",
              " [-38.6   3.4  16.4  11.4   7.4]\n",
              " [ 37.  -19.   11.   14.  -43. ]\n",
              " [-14.6  -4.6  37.4 -35.6  17.4]\n",
              " [ 28.4   7.4 -49.6   2.4  11.4]]</pre><br/>but obtained <pre>[[-1  0  1 81 89]\n",
              " [-1  0  1 62 68]\n",
              " [-1  0  1 95 66]\n",
              " [-1  0  1 48 68]\n",
              " [-1  0  1 45 53]\n",
              " [-1  0  1 56  9]\n",
              " [-1  0  1 52 89]\n",
              " [-1  0  1 45 18]\n",
              " [-1  0  1 88 61]\n",
              " [-1  0  1 63 59]\n",
              " [-1  0  1 57  0]\n",
              " [-1  0  1 14 67]\n",
              " [-1  0  1 57 66]]</pre><br/><pre>----------------------------</pre>\n",
              "                    <p/><p/>\n",
              "                    <div style=\"font-size:10px\"><b>SUBMISSION CODE</b> liXZ8cFu3l8fuboeW/HISBXIFXbXtCRAJIU/C5j+iK6raRWhquSeHFB0Df9diuScL57MC3hXSniQ/k9eQgFo92z0DVa6w/RDgcu9sj8yG9XHo4xoly8aqmChg//rKJ1PFq4v6zHbCmChMrN7KKTl2g==</div>\n",
              "                    "
            ],
            "text/plain": [
              "<IPython.core.display.HTML object>"
            ]
          },
          "metadata": {
            "tags": []
          }
        }
      ]
    },
    {
      "cell_type": "markdown",
      "metadata": {
        "id": "rEHJ9FdW1lgd"
      },
      "source": [
        "## Task 4: Double the diagonal\n",
        "\n",
        "Complete the following function such that it returns the same matrix received in $X$ but with its diagonal multiplied by 2. Assume $X$ is a square matrix (with the same number of rows and columns).\n",
        "\n",
        "**Execution example**\n",
        "\n",
        "```python\n",
        ">> X = np.array([[79, 45, 67,  8, 37],\n",
        ">>               [47, 40,  5, 79, 86],\n",
        ">>               [72, 25, 44, 45, 22],\n",
        ">>               [12, 85,  8, 53, 28],\n",
        ">>               [ 4, 37, 36, 40, 16]])\n",
        ">> \n",
        ">> doublediag(X)\n",
        "\n",
        "array([[158.,  45.,  67.,   8.,  37.],\n",
        "       [ 47.,  80.,   5.,  79.,  86.],\n",
        "       [ 72.,  25.,  88.,  45.,  22.],\n",
        "       [ 12.,  85.,   8., 106.,  28.],\n",
        "       [  4.,  37.,  36.,  40.,  32.]])\n",
        "```\n",
        "\n",
        "**HINT**: use [`np.eye`](https://docs.scipy.org/doc/numpy/reference/generated/numpy.eye.html)\n",
        "\n",
        "**CHALLENGE**: solve with one line of code"
      ]
    },
    {
      "cell_type": "code",
      "metadata": {
        "id": "8e4oBy_R1lge"
      },
      "source": [
        "def doublediag(X):\n",
        "    return ... # your code here"
      ],
      "execution_count": null,
      "outputs": []
    },
    {
      "cell_type": "markdown",
      "metadata": {
        "id": "kpIoKfI91lge"
      },
      "source": [
        "**check manually your code**"
      ]
    },
    {
      "cell_type": "code",
      "metadata": {
        "id": "RHnpS_4C1lgf"
      },
      "source": [
        "X = np.array([[79, 45, 67,  8, 37],\n",
        "              [47, 40,  5, 79, 86],\n",
        "              [72, 25, 44, 45, 22],\n",
        "              [12, 85,  8, 53, 28],\n",
        "              [ 4, 37, 36, 40, 16]])\n",
        "doublediag(X)"
      ],
      "execution_count": null,
      "outputs": []
    },
    {
      "cell_type": "markdown",
      "metadata": {
        "id": "iRn9q-C61lgf"
      },
      "source": [
        "**submit your code**"
      ]
    },
    {
      "cell_type": "code",
      "metadata": {
        "scrolled": true,
        "id": "ptXMuA-p1lgf"
      },
      "source": [
        "student.submit_task(globals(), task_id=\"task_04\");"
      ],
      "execution_count": null,
      "outputs": []
    },
    {
      "cell_type": "code",
      "metadata": {
        "id": "GYG3Swez1lgf"
      },
      "source": [
        ""
      ],
      "execution_count": null,
      "outputs": []
    }
  ]
}